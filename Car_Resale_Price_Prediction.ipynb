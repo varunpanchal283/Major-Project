{
  "nbformat": 4,
  "nbformat_minor": 0,
  "metadata": {
    "colab": {
      "name": "Car Resale Price Prediction.ipynb",
      "provenance": []
    },
    "kernelspec": {
      "name": "python3",
      "display_name": "Python 3"
    },
    "language_info": {
      "name": "python"
    }
  },
  "cells": [
    {
      "cell_type": "code",
      "source": [
        "pip install kora"
      ],
      "metadata": {
        "id": "bX_PBeQm1SoS"
      },
      "execution_count": null,
      "outputs": []
    },
    {
      "cell_type": "code",
      "execution_count": 3,
      "metadata": {
        "id": "q7UWgnjFDcku"
      },
      "outputs": [],
      "source": [
        "import pandas as pd\n",
        "import numpy as np\n",
        "import seaborn as sns\n",
        "import matplotlib.pyplot as plt\n",
        "%matplotlib inline\n",
        "from kora.selenium import wd\n",
        "from time import sleep\n",
        "from bs4 import BeautifulSoup as bs\n",
        "import numpy as np\n",
        "import pandas as pd\n",
        "import threading\n",
        "from sklearn.preprocessing import LabelEncoder\n",
        "import pandas as pd\n",
        "import numpy as np\n",
        "import time\n",
        "from tqdm import tqdm\n",
        "import matplotlib\n",
        "import matplotlib.pyplot as plt\n",
        "import pickle\n",
        "\n",
        "#libraries for preprocessing\n",
        "from sklearn import preprocessing\n",
        "from sklearn.preprocessing import StandardScaler\n",
        "from sklearn.preprocessing import MinMaxScaler\n",
        "\n",
        "#libraries for evaluation\n",
        "from sklearn.metrics import mean_squared_log_error,r2_score,mean_squared_error\n",
        "from sklearn.model_selection import train_test_split\n",
        "\n",
        "\n",
        "#libraries for models\n",
        "from sklearn.linear_model import LinearRegression\n",
        "\n",
        "from sklearn.linear_model import Ridge\n",
        "from sklearn.linear_model import LassoCV,RidgeCV\n",
        "from yellowbrick.regressor import AlphaSelection\n",
        "\n",
        "from sklearn.linear_model import Lasso\n",
        "\n",
        "from sklearn.neighbors import KNeighborsRegressor\n",
        "\n",
        "from sklearn.ensemble import RandomForestRegressor\n",
        "\n",
        "from sklearn.ensemble import BaggingRegressor\n",
        "from sklearn.tree import DecisionTreeRegressor\n",
        "from sklearn.svm import SVR\n",
        "\n",
        "from sklearn.ensemble import AdaBoostRegressor\n",
        "\n",
        "import xgboost as xgb\n",
        "\n",
        "import warnings\n",
        "warnings.filterwarnings('ignore')"
      ]
    },
    {
      "cell_type": "code",
      "source": [
        "global carTitle,money,feature\n",
        "carTitle=[]\n",
        "money=[]\n",
        "feature=[]\n",
        "place=[]\n",
        "auto_manu=[]\n",
        "\n",
        "def pspk(url):\n",
        "  global carTitle,money,feature\n",
        "  wd.get(url)\n",
        "  SCROLL_PAUSE_TIME = 4\n",
        "  last_height = wd.execute_script(\"return document.body.scrollHeight\")\n",
        "  while True:\n",
        "      # Scroll down to bottom\n",
        "      wd.execute_script(\"window.scrollTo(0, document.body.scrollHeight);\")\n",
        "\n",
        "      # Wait to load page\n",
        "      sleep(SCROLL_PAUSE_TIME)\n",
        "      new_height = wd.execute_script(\"return document.body.scrollHeight\")\n",
        "      if new_height == last_height:\n",
        "          break\n",
        "      last_height = new_height\n",
        "\n",
        "  r=wd.page_source\n",
        "  soup=bs(r,'html.parser').find_all(\"div\",attrs={\"class\":'_1l4fi'})\n",
        "  place_h=bs(r,'html.parser').find('p',attrs={\"class\":\"_1V4-O\"})\n",
        "  for i in soup:\n",
        "    if i!=None:\n",
        "      sus=bs(str(i),\"html.parser\")\n",
        "      ss=sus.find(\"h2\")\n",
        "      if ss is None:\n",
        "        carTitle.append(np.Nan)\n",
        "      else:\n",
        "        carTitle.append(str(ss.text))\n",
        "      price = sus.find('div',attrs={'class' : '_7udZZ'})\n",
        "      if price is None:\n",
        "        money.append(np.NaN)\n",
        "      else:\n",
        "        money.append(str(price.text))\n",
        "      detail=sus.find('ul',attrs={'class':'bVR0c'})\n",
        "      if detail is None:\n",
        "        feature.append(np.NaN)\n",
        "      else:\n",
        "        feature.append(detail.text)\n",
        "      place.append(place_h.text)\n",
        "      am=sus.find('p',attrs={'class':'cvakB'})\n",
        "      if am is None:\n",
        "        auto_manu.append(np.NaN)\n",
        "      else:\n",
        "        if \"Manual\" in am.text:\n",
        "          auto_manu.append(\"Manual\")\n",
        "        elif \"Automatic\" in am.text:\n",
        "          auto_manu.append(\"Automatic\")\n",
        "        else:\n",
        "          auto_manu.append(np.NaN)\n",
        "urls=[\"https://www.cars24.com/buy-used-car?sort=P&storeCityId=2&pinId=110001\",\n",
        "      \"https://www.cars24.com/buy-used-car?sort=P&storeCityId=134&pinId=201301\",\n",
        "      \"https://www.cars24.com/buy-used-car?sort=P&storeCityId=5&pinId=122001\",\n",
        "      \"https://www.cars24.com/buy-used-car?sort=P&storeCityId=2378&pinId=400001\",\n",
        "      \"https://www.cars24.com/buy-used-car?sort=P&storeCityId=2423&pinId=411001\",\n",
        "      \"https://www.cars24.com/buy-used-car?sort=P&storeCityId=4709&pinId=560001\",\n",
        "      \"https://www.cars24.com/buy-used-car?sort=P&storeCityId=3686&pinId=500001\",\n",
        "      \"https://www.cars24.com/buy-used-car?sort=P&storeCityId=5732&pinId=600001\",\n",
        "      \"https://www.cars24.com/buy-used-car?sort=P&storeCityId=777&pinId=700001\",\n",
        "      \"https://www.cars24.com/buy-used-car?sort=P&storeCityId=1692&pinId=380001\"\n",
        "      ]\n",
        "for i in urls:\n",
        "  pspk(i)"
      ],
      "metadata": {
        "id": "K-CFJPNPKR7y"
      },
      "execution_count": 4,
      "outputs": []
    },
    {
      "cell_type": "code",
      "source": [
        "print(len(auto_manu))"
      ],
      "metadata": {
        "id": "_JmzPkVViuYn"
      },
      "execution_count": null,
      "outputs": []
    },
    {
      "cell_type": "code",
      "source": [
        "df = pd.DataFrame({'PRODUCT' : carTitle,'DETAIL':feature ,'MRP':money,'Place':place,'Auto/Man':auto_manu})"
      ],
      "metadata": {
        "id": "zd8ssnTzcL69"
      },
      "execution_count": 6,
      "outputs": []
    },
    {
      "cell_type": "code",
      "source": [
        "df.info()"
      ],
      "metadata": {
        "id": "LjK-Kc_FtP5V"
      },
      "execution_count": null,
      "outputs": []
    },
    {
      "cell_type": "code",
      "source": [
        "df.tail(5)"
      ],
      "metadata": {
        "id": "PJBm4sCQXMmt"
      },
      "execution_count": null,
      "outputs": []
    },
    {
      "cell_type": "code",
      "source": [
        "df.isnull().sum()"
      ],
      "metadata": {
        "id": "JjRwH_Siw76W"
      },
      "execution_count": null,
      "outputs": []
    },
    {
      "cell_type": "code",
      "source": [
        "df=df.dropna(axis=0)"
      ],
      "metadata": {
        "id": "Hq3b2OIxw_WP"
      },
      "execution_count": 9,
      "outputs": []
    },
    {
      "cell_type": "code",
      "source": [
        "df[\"Auto/Man\"].unique()"
      ],
      "metadata": {
        "id": "EVNZxVdkcr3v"
      },
      "execution_count": null,
      "outputs": []
    },
    {
      "cell_type": "code",
      "source": [
        "import regex as re\n",
        "regex = '.*km'\n",
        "df['MILAGECOVERED'] = df['DETAIL'].apply(lambda x : re.findall(regex, x) if(re.findall(regex, x)!=[]) else [\"0\"])\n",
        "regex = '[\\d]+[a-z]+[a-z]+[\\s]+Owner'\n",
        "df['INHAND'] = df['DETAIL'].apply(lambda x : re.findall(regex, x))\n",
        "regex = 'Petrol|Diesel|Petrol+CNG}{1,1}'\n",
        "df['ENGINETYPE'] = df['DETAIL'].apply(lambda x : re.findall(regex, x))\n",
        "regex = '[1-90]{4}'\n",
        "df['MANUFACTURE'] = df['PRODUCT'].apply(lambda x : re.findall(regex, x))\n",
        "regex = '[^1-90]+[\\d\\w]'\n",
        "df['NAME'] = df['PRODUCT'].apply(lambda x : x[5:])"
      ],
      "metadata": {
        "id": "7I9BnVEkeb68"
      },
      "execution_count": 10,
      "outputs": []
    },
    {
      "cell_type": "code",
      "source": [
        "df.NAME= df.NAME.apply(lambda x : ''.join(x))\n",
        "df.ENGINETYPE= df.ENGINETYPE.apply(lambda x : ''.join(x))\n",
        "df.MANUFACTURE= df.MANUFACTURE.apply(lambda x : ''.join(x))\n",
        "df.MILAGECOVERED= df.MILAGECOVERED.apply(lambda x : ''.join(x))\n",
        "df.INHAND= df.INHAND.apply(lambda x : ''.join(x))"
      ],
      "metadata": {
        "id": "WQepYCh8gI-A"
      },
      "execution_count": 11,
      "outputs": []
    },
    {
      "cell_type": "code",
      "source": [
        "df.MRP = df.MRP.apply(lambda x : x.replace('₹', '').replace(',', '')).astype(float)"
      ],
      "metadata": {
        "id": "p_RAPrs0gBFs"
      },
      "execution_count": 12,
      "outputs": []
    },
    {
      "cell_type": "code",
      "source": [
        "df.MANUFACTURE = df.MANUFACTURE.apply(lambda x : x.replace('₹', '').replace(',', '')).astype(int)"
      ],
      "metadata": {
        "id": "XUGFIWze85mx"
      },
      "execution_count": 13,
      "outputs": []
    },
    {
      "cell_type": "code",
      "source": [
        "df.MILAGECOVERED = df.MILAGECOVERED.apply(lambda i : i.replace('km', '').replace(' ', '').replace('\\n','').replace(',','')).astype(float)"
      ],
      "metadata": {
        "id": "ZomOSUMwqN-U"
      },
      "execution_count": 14,
      "outputs": []
    },
    {
      "cell_type": "code",
      "source": [
        "df['Brand_Name'] = df['NAME'].str.split(' ').str[0]\n",
        "df[\"Model\"]=df['NAME'].str.split(' ').str[1:]\n",
        "df.Model= df.Model.apply(lambda x : ' '.join(x))\n",
        "df=df.drop([\"NAME\"],axis='columns')"
      ],
      "metadata": {
        "id": "1VF6bwvh0pdy"
      },
      "execution_count": 15,
      "outputs": []
    },
    {
      "cell_type": "code",
      "source": [
        "df=df[['Brand_Name','Model','Place','ENGINETYPE','MANUFACTURE','MILAGECOVERED','INHAND','Auto/Man','MRP']]"
      ],
      "metadata": {
        "id": "JJJHH1JTEWqV"
      },
      "execution_count": 16,
      "outputs": []
    },
    {
      "cell_type": "code",
      "source": [
        "df.head(10)"
      ],
      "metadata": {
        "id": "zYejEHem0sQT"
      },
      "execution_count": null,
      "outputs": []
    },
    {
      "cell_type": "code",
      "source": [
        "le_ENGINETYPE=LabelEncoder()\n",
        "le_Brand_Name=LabelEncoder()\n",
        "le_Model=LabelEncoder()\n",
        "le_INHAND=LabelEncoder()\n",
        "le_Place=LabelEncoder()\n",
        "le_Automan=LabelEncoder()\n",
        "df['ENGINETYPE']= le_ENGINETYPE.fit_transform(df['ENGINETYPE'])\n",
        "df['Brand_Name']=le_Brand_Name.fit_transform(df['Brand_Name'])\n",
        "df['Model']=le_Model.fit_transform(df['Model'])\n",
        "df['INHAND']=le_INHAND.fit_transform(df['INHAND'])\n",
        "df['Place']=le_Place.fit_transform(df['Place'])\n",
        "df['Auto/Man']=le_Automan.fit_transform(df['Auto/Man'])"
      ],
      "metadata": {
        "id": "hpwx-vmX63Qy"
      },
      "execution_count": 18,
      "outputs": []
    },
    {
      "cell_type": "code",
      "source": [
        "print(le_ENGINETYPE.classes_)\n",
        "print(le_Brand_Name.classes_ [21])\n",
        "print(le_Model.classes_[101])\n",
        "print(le_INHAND.classes_ )\n",
        "print(le_Place.classes_)"
      ],
      "metadata": {
        "id": "x9vi3MlrDsOd"
      },
      "execution_count": null,
      "outputs": []
    },
    {
      "cell_type": "code",
      "source": [
        "df3_input=df.drop([\"MRP\"],axis='columns')\n",
        "df3_target=df['MRP']"
      ],
      "metadata": {
        "id": "0toDWy__44uy"
      },
      "execution_count": null,
      "outputs": []
    },
    {
      "cell_type": "code",
      "source": [
        "df.to_csv(\"cars24.csv\")"
      ],
      "metadata": {
        "id": "nxj6KMJyG47A"
      },
      "execution_count": null,
      "outputs": []
    },
    {
      "cell_type": "code",
      "source": [
        "def trainingData(df,n):\n",
        "    X = df.iloc[:,n]\n",
        "    y = df.iloc[:,-1:].values.T\n",
        "    y=y[0]\n",
        "    X_train,X_test,y_train,y_test=train_test_split(X,y,train_size=0.9,test_size=0.1,random_state=0)\n",
        "    return (X_train,X_test,y_train,y_test)\n",
        "\n",
        "X_train,X_test,y_train,y_test=trainingData(df,list(range(len(list(df.columns))-1)))"
      ],
      "metadata": {
        "id": "8ZDsiFB3G-5N"
      },
      "execution_count": 19,
      "outputs": []
    },
    {
      "cell_type": "code",
      "source": [
        "X_train.info()"
      ],
      "metadata": {
        "id": "1kFrf1-L0WoW"
      },
      "execution_count": null,
      "outputs": []
    },
    {
      "cell_type": "code",
      "source": [
        "def remove_neg(y_test,y_pred):\n",
        "    ind=[index for index in range(len(y_pred)) if(y_pred[index]>0)]\n",
        "    y_pred=y_pred[ind]\n",
        "    y_test=y_test[ind]\n",
        "    y_pred[y_pred<0]\n",
        "    return (y_test,y_pred)\n",
        "\n",
        "#function for evaluation of model\n",
        "def result(y_test,y_pred):\n",
        "    r=[]\n",
        "    r.append(mean_squared_log_error(y_test, y_pred))\n",
        "    r.append(np.sqrt(r[0]))\n",
        "    r.append(r2_score(y_test,y_pred))\n",
        "    r.append(round(r2_score(y_test,y_pred)*100,4))\n",
        "    return (r)\n",
        "\n",
        "#dataframe that store the performance of each model\n",
        "accu=pd.DataFrame(index=['MSLE', 'Root MSLE', 'R2 Score','Accuracy(%)'])  "
      ],
      "metadata": {
        "id": "oxxXqdpXIAxD"
      },
      "execution_count": 20,
      "outputs": []
    },
    {
      "cell_type": "code",
      "source": [
        "RFR = RandomForestRegressor(n_estimators=180,random_state=0, min_samples_leaf=1, max_features=0.5, n_jobs=-1, oob_score=True)\n",
        "RFR.fit(X_train,y_train)\n",
        "y_pred = RFR.predict(X_test)\n",
        "r5_rf=result(y_test,y_pred)\n",
        "print(\"MSLE : {}\".format(r5_rf[0]))\n",
        "print(\"Root MSLE : {}\".format(r5_rf[1]))\n",
        "print(\"R2 Score : {} or {}%\".format(r5_rf[2],r5_rf[3]))\n",
        "accu['RandomForest Regressor']=r5_rf"
      ],
      "metadata": {
        "colab": {
          "base_uri": "https://localhost:8080/"
        },
        "id": "aQtb5OM-Is5B",
        "outputId": "988429dd-42e4-46cb-fbce-5fb1fff16452"
      },
      "execution_count": 21,
      "outputs": [
        {
          "output_type": "stream",
          "name": "stdout",
          "text": [
            "MSLE : 0.011328052916536406\n",
            "Root MSLE : 0.1064333261555628\n",
            "R2 Score : 0.9058087742379406 or 90.5809%\n"
          ]
        }
      ]
    },
    {
      "cell_type": "code",
      "source": [
        "ABR = AdaBoostRegressor(\n",
        "    DecisionTreeRegressor(max_depth=24),\n",
        "    n_estimators=200,learning_rate=0.6\n",
        ")\n",
        "\n",
        "ABR.fit(X_train, y_train)\n",
        "y_pred = ABR.predict(X_test)\n",
        "#model evaluation\n",
        "r7_ab=result(y_test,y_pred)\n",
        "print(\"MSLE : {}\".format(r7_ab[0]))\n",
        "print(\"Root MSLE : {}\".format(r7_ab[1]))\n",
        "print(\"R2 Score : {} or {}%\".format(r7_ab[2],r7_ab[3]))\n",
        "accu['AdaBoost Regression']=r7_ab"
      ],
      "metadata": {
        "colab": {
          "base_uri": "https://localhost:8080/"
        },
        "id": "EP2jX2GeI6lS",
        "outputId": "d8169915-fdd5-46e4-8ca4-82d1ba89ada1"
      },
      "execution_count": 22,
      "outputs": [
        {
          "output_type": "stream",
          "name": "stdout",
          "text": [
            "MSLE : 0.009534422410269154\n",
            "Root MSLE : 0.09764436701760709\n",
            "R2 Score : 0.9180075148936477 or 91.8008%\n"
          ]
        }
      ]
    },
    {
      "cell_type": "code",
      "source": [
        "xg_reg = xgb.XGBRegressor(objective ='reg:squarederror', learning_rate = 0.4,\n",
        "                max_depth = 24, alpha = 5, n_estimators = 200)\n",
        "X_test = X_test.to_numpy()\n",
        "X_train = X_train.to_numpy()\n",
        "xg_reg.fit(X_train,y_train)\n",
        "y_pred = xg_reg.predict(X_test)\n",
        "#model evaluation\n",
        "y_test_1,y_pred_1=remove_neg(y_test,y_pred)\n",
        "r8_xg=result(y_test_1,y_pred_1)\n",
        "print(\"MSLE : {}\".format(r8_xg[0]))\n",
        "print(\"Root MSLE : {}\".format(r8_xg[1]))\n",
        "print(\"R2 Score : {} or {}%\".format(r8_xg[2],r8_xg[3]))\n",
        "accu['XGBoost Regressor']=r8_xg"
      ],
      "metadata": {
        "id": "ilQ7ioSWJNIF"
      },
      "execution_count": null,
      "outputs": []
    },
    {
      "cell_type": "code",
      "source": [
        "accu.to_csv('errors.csv')\n",
        "accu=pd.read_csv('./errors.csv',index_col=0)\n",
        "accu"
      ],
      "metadata": {
        "id": "-ze6yzuaJmiG"
      },
      "execution_count": null,
      "outputs": []
    },
    {
      "cell_type": "code",
      "source": [
        "model_accuracy=accu.loc['Accuracy(%)']\n",
        "x=list(range(len(model_accuracy)))\n",
        "y=list(range(0,101,10))\n",
        "props = dict(boxstyle='round', facecolor='white', alpha=0.8)\n",
        "plt.figure(figsize=(20,6))\n",
        "plt.plot(model_accuracy)\n",
        "plt.yticks(y)\n",
        "plt.xticks(fontsize=20)\n",
        "plt.xticks(rotation = (10))\n",
        "plt.xlabel(\"Models\",fontsize=30)\n",
        "plt.ylabel(\"Accuracy(%)\",fontsize=30)\n",
        "plt.title(\"Performance of Models\")\n",
        "for a,b in zip(x,y):\n",
        "    b=model_accuracy[a]\n",
        "    val=\"(\"+str(round(model_accuracy[a],2))+\" %)\"\n",
        "    plt.text(a, b+4.5, val,horizontalalignment='center',verticalalignment='center',color='green',bbox=props)\n",
        "    plt.text(a, b+3.5, '.',horizontalalignment='center',verticalalignment='center',color='red',fontsize=50)\n",
        "plt.tight_layout()\n",
        "plt.savefig('Overall-Performance.jpg',dpi=600)\n",
        "plt.show();"
      ],
      "metadata": {
        "id": "y-qzOC6ez3wj"
      },
      "execution_count": null,
      "outputs": []
    },
    {
      "cell_type": "code",
      "source": [
        "pickle.dump(xg_reg, open('XGRegression.sav', 'wb'))"
      ],
      "metadata": {
        "id": "o6BMKKNeKwaS"
      },
      "execution_count": 26,
      "outputs": []
    },
    {
      "cell_type": "code",
      "source": [
        "mymodel = pickle.load(open('XGRegression.sav', 'rb'))"
      ],
      "metadata": {
        "id": "3bs9MWK8LGX5"
      },
      "execution_count": 27,
      "outputs": []
    },
    {
      "cell_type": "code",
      "source": [
        "df.head(1)"
      ],
      "metadata": {
        "id": "mbIKs3vdLfgo"
      },
      "execution_count": null,
      "outputs": []
    },
    {
      "cell_type": "code",
      "source": [
        "mymodel.predict([[21,101,2,1,2017,62625,0,1]])"
      ],
      "metadata": {
        "id": "vBlbBN5kLdRp"
      },
      "execution_count": null,
      "outputs": []
    }
  ]
}