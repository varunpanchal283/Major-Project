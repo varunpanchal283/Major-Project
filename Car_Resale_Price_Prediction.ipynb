{
  "cells": [
    {
      "cell_type": "markdown",
      "metadata": {
        "id": "view-in-github",
        "colab_type": "text"
      },
      "source": [
        "<a href=\"https://colab.research.google.com/github/varunpanchal283/Major-Project/blob/main/Car_Resale_Price_Prediction.ipynb\" target=\"_parent\"><img src=\"https://colab.research.google.com/assets/colab-badge.svg\" alt=\"Open In Colab\"/></a>"
      ]
    },
    {
      "cell_type": "code",
      "execution_count": null,
      "metadata": {
        "colab": {
          "base_uri": "https://localhost:8080/"
        },
        "id": "bX_PBeQm1SoS",
        "outputId": "a697cd9f-9afd-47e9-adc3-307facfdb7dc"
      },
      "outputs": [
        {
          "output_type": "stream",
          "name": "stdout",
          "text": [
            "Requirement already satisfied: kora in /usr/local/lib/python3.7/dist-packages (0.9.19)\n",
            "Requirement already satisfied: ipython in /usr/local/lib/python3.7/dist-packages (from kora) (5.5.0)\n",
            "Requirement already satisfied: fastcore in /usr/local/lib/python3.7/dist-packages (from kora) (1.4.2)\n",
            "Requirement already satisfied: packaging in /usr/local/lib/python3.7/dist-packages (from fastcore->kora) (21.3)\n",
            "Requirement already satisfied: pip in /usr/local/lib/python3.7/dist-packages (from fastcore->kora) (21.1.3)\n",
            "Requirement already satisfied: pygments in /usr/local/lib/python3.7/dist-packages (from ipython->kora) (2.6.1)\n",
            "Requirement already satisfied: simplegeneric>0.8 in /usr/local/lib/python3.7/dist-packages (from ipython->kora) (0.8.1)\n",
            "Requirement already satisfied: traitlets>=4.2 in /usr/local/lib/python3.7/dist-packages (from ipython->kora) (5.1.1)\n",
            "Requirement already satisfied: setuptools>=18.5 in /usr/local/lib/python3.7/dist-packages (from ipython->kora) (57.4.0)\n",
            "Requirement already satisfied: decorator in /usr/local/lib/python3.7/dist-packages (from ipython->kora) (4.4.2)\n",
            "Requirement already satisfied: pexpect in /usr/local/lib/python3.7/dist-packages (from ipython->kora) (4.8.0)\n",
            "Requirement already satisfied: pickleshare in /usr/local/lib/python3.7/dist-packages (from ipython->kora) (0.7.5)\n",
            "Requirement already satisfied: prompt-toolkit<2.0.0,>=1.0.4 in /usr/local/lib/python3.7/dist-packages (from ipython->kora) (1.0.18)\n",
            "Requirement already satisfied: six>=1.9.0 in /usr/local/lib/python3.7/dist-packages (from prompt-toolkit<2.0.0,>=1.0.4->ipython->kora) (1.15.0)\n",
            "Requirement already satisfied: wcwidth in /usr/local/lib/python3.7/dist-packages (from prompt-toolkit<2.0.0,>=1.0.4->ipython->kora) (0.2.5)\n",
            "Requirement already satisfied: pyparsing!=3.0.5,>=2.0.2 in /usr/local/lib/python3.7/dist-packages (from packaging->fastcore->kora) (3.0.8)\n",
            "Requirement already satisfied: ptyprocess>=0.5 in /usr/local/lib/python3.7/dist-packages (from pexpect->ipython->kora) (0.7.0)\n"
          ]
        }
      ],
      "source": [
        "pip install kora"
      ]
    },
    {
      "cell_type": "code",
      "execution_count": null,
      "metadata": {
        "id": "q7UWgnjFDcku"
      },
      "outputs": [],
      "source": [
        "import pandas as pd\n",
        "import numpy as np\n",
        "import seaborn as sns\n",
        "import matplotlib.pyplot as plt\n",
        "%matplotlib inline\n",
        "from kora.selenium import wd\n",
        "from time import sleep\n",
        "from bs4 import BeautifulSoup as bs\n",
        "import numpy as np\n",
        "import pandas as pd\n",
        "import threading\n",
        "from sklearn.preprocessing import LabelEncoder\n",
        "import pandas as pd\n",
        "import numpy as np\n",
        "import time\n",
        "from tqdm import tqdm\n",
        "import matplotlib\n",
        "import matplotlib.pyplot as plt\n",
        "import pickle\n",
        "\n",
        "#libraries for preprocessing\n",
        "from sklearn import preprocessing\n",
        "from sklearn.preprocessing import StandardScaler\n",
        "from sklearn.preprocessing import MinMaxScaler\n",
        "\n",
        "#libraries for evaluation\n",
        "from sklearn.metrics import mean_squared_log_error,r2_score,mean_squared_error\n",
        "from sklearn.model_selection import train_test_split\n",
        "\n",
        "\n",
        "#libraries for models\n",
        "from sklearn.linear_model import LinearRegression\n",
        "\n",
        "from sklearn.linear_model import Ridge\n",
        "from sklearn.linear_model import LassoCV,RidgeCV\n",
        "from yellowbrick.regressor import AlphaSelection\n",
        "\n",
        "from sklearn.linear_model import Lasso\n",
        "\n",
        "from sklearn.neighbors import KNeighborsRegressor\n",
        "\n",
        "from sklearn.ensemble import RandomForestRegressor\n",
        "\n",
        "from sklearn.ensemble import BaggingRegressor\n",
        "from sklearn.tree import DecisionTreeRegressor\n",
        "from sklearn.svm import SVR\n",
        "\n",
        "from sklearn.ensemble import AdaBoostRegressor\n",
        "\n",
        "import xgboost as xgb\n",
        "\n",
        "import warnings\n",
        "warnings.filterwarnings('ignore')"
      ]
    },
    {
      "cell_type": "code",
      "source": [
        "!pip install xgboost"
      ],
      "metadata": {
        "colab": {
          "base_uri": "https://localhost:8080/"
        },
        "id": "npLJwZWqnYiw",
        "outputId": "2547676f-1c23-4058-9c81-725a62839335"
      },
      "execution_count": null,
      "outputs": [
        {
          "output_type": "stream",
          "name": "stdout",
          "text": [
            "Requirement already satisfied: xgboost in /usr/local/lib/python3.7/dist-packages (1.6.0)\n",
            "Requirement already satisfied: scipy in /usr/local/lib/python3.7/dist-packages (from xgboost) (1.4.1)\n",
            "Requirement already satisfied: numpy in /usr/local/lib/python3.7/dist-packages (from xgboost) (1.21.6)\n"
          ]
        }
      ]
    },
    {
      "cell_type": "code",
      "execution_count": null,
      "metadata": {
        "id": "K-CFJPNPKR7y"
      },
      "outputs": [],
      "source": [
        "global carTitle,money,feature\n",
        "carTitle=[]\n",
        "money=[]\n",
        "feature=[]\n",
        "place=[]\n",
        "auto_manu=[]\n",
        "\n",
        "def pspk(url):\n",
        "  global carTitle,money,feature\n",
        "  wd.get(url)\n",
        "  SCROLL_PAUSE_TIME = 4\n",
        "  last_height = wd.execute_script(\"return document.body.scrollHeight\")\n",
        "  while True:\n",
        "      # Scroll down to bottom\n",
        "      wd.execute_script(\"window.scrollTo(0, document.body.scrollHeight);\")\n",
        "\n",
        "      # Wait to load page\n",
        "      sleep(SCROLL_PAUSE_TIME)\n",
        "      new_height = wd.execute_script(\"return document.body.scrollHeight\")\n",
        "      if new_height == last_height:\n",
        "          break\n",
        "      last_height = new_height\n",
        "\n",
        "  r=wd.page_source\n",
        "  soup=bs(r,'html.parser').find_all(\"div\",attrs={\"class\":'_1l4fi'})\n",
        "  place_h=bs(r,'html.parser').find('p',attrs={\"class\":\"_1V4-O\"})\n",
        "  for i in soup:\n",
        "    if i!=None:\n",
        "      sus=bs(str(i),\"html.parser\")\n",
        "      ss=sus.find(\"h2\")\n",
        "      if ss is None:\n",
        "        carTitle.append(np.Nan)\n",
        "      else:\n",
        "        carTitle.append(str(ss.text))\n",
        "      price = sus.find('div',attrs={'class' : '_7udZZ'})\n",
        "      if price is None:\n",
        "        money.append(np.NaN)\n",
        "      else:\n",
        "        money.append(str(price.text))\n",
        "      detail=sus.find('ul',attrs={'class':'bVR0c'})\n",
        "      if detail is None:\n",
        "        feature.append(np.NaN)\n",
        "      else:\n",
        "        feature.append(detail.text)\n",
        "      place.append(place_h.text)\n",
        "      am=sus.find('p',attrs={'class':'cvakB'})\n",
        "      if am is None:\n",
        "        auto_manu.append(np.NaN)\n",
        "      else:\n",
        "        if \"Manual\" in am.text:\n",
        "          auto_manu.append(\"Manual\")\n",
        "        elif \"Automatic\" in am.text:\n",
        "          auto_manu.append(\"Automatic\")\n",
        "        else:\n",
        "          auto_manu.append(np.NaN)\n",
        "urls=[\"https://www.cars24.com/buy-used-car?sort=P&storeCityId=2&pinId=110001\",\n",
        "      \"https://www.cars24.com/buy-used-car?sort=P&storeCityId=134&pinId=201301\",\n",
        "      \"https://www.cars24.com/buy-used-car?sort=P&storeCityId=5&pinId=122001\",\n",
        "      \"https://www.cars24.com/buy-used-car?sort=P&storeCityId=2378&pinId=400001\",\n",
        "      \"https://www.cars24.com/buy-used-car?sort=P&storeCityId=2423&pinId=411001\",\n",
        "      \"https://www.cars24.com/buy-used-car?sort=P&storeCityId=4709&pinId=560001\",\n",
        "      \"https://www.cars24.com/buy-used-car?sort=P&storeCityId=3686&pinId=500001\",\n",
        "      \"https://www.cars24.com/buy-used-car?sort=P&storeCityId=5732&pinId=600001\",\n",
        "      \"https://www.cars24.com/buy-used-car?sort=P&storeCityId=777&pinId=700001\",\n",
        "      \"https://www.cars24.com/buy-used-car?sort=P&storeCityId=1692&pinId=380001\"\n",
        "      ]\n",
        "for i in urls:\n",
        "  pspk(i)"
      ]
    },
    {
      "cell_type": "code",
      "execution_count": null,
      "metadata": {
        "colab": {
          "base_uri": "https://localhost:8080/",
          "height": 165
        },
        "id": "_JmzPkVViuYn",
        "outputId": "e95ac659-12ce-4279-d263-39bdf56f7e53"
      },
      "outputs": [
        {
          "output_type": "error",
          "ename": "NameError",
          "evalue": "ignored",
          "traceback": [
            "\u001b[0;31m---------------------------------------------------------------------------\u001b[0m",
            "\u001b[0;31mNameError\u001b[0m                                 Traceback (most recent call last)",
            "\u001b[0;32m<ipython-input-2-921e36efcea7>\u001b[0m in \u001b[0;36m<module>\u001b[0;34m()\u001b[0m\n\u001b[0;32m----> 1\u001b[0;31m \u001b[0mprint\u001b[0m\u001b[0;34m(\u001b[0m\u001b[0mlen\u001b[0m\u001b[0;34m(\u001b[0m\u001b[0mauto_manu\u001b[0m\u001b[0;34m)\u001b[0m\u001b[0;34m)\u001b[0m\u001b[0;34m\u001b[0m\u001b[0;34m\u001b[0m\u001b[0m\n\u001b[0m",
            "\u001b[0;31mNameError\u001b[0m: name 'auto_manu' is not defined"
          ]
        }
      ],
      "source": [
        "print(len(auto_manu))"
      ]
    },
    {
      "cell_type": "code",
      "execution_count": null,
      "metadata": {
        "id": "zd8ssnTzcL69"
      },
      "outputs": [],
      "source": [
        "df = pd.DataFrame({'PRODUCT' : carTitle,'DETAIL':feature ,'MRP':money,'Place':place,'Auto/Man':auto_manu})"
      ]
    },
    {
      "cell_type": "code",
      "execution_count": null,
      "metadata": {
        "colab": {
          "base_uri": "https://localhost:8080/"
        },
        "id": "LjK-Kc_FtP5V",
        "outputId": "afe936b7-d924-405e-92ea-aeee851888ab"
      },
      "outputs": [
        {
          "output_type": "stream",
          "name": "stdout",
          "text": [
            "<class 'pandas.core.frame.DataFrame'>\n",
            "RangeIndex: 5148 entries, 0 to 5147\n",
            "Data columns (total 5 columns):\n",
            " #   Column    Non-Null Count  Dtype \n",
            "---  ------    --------------  ----- \n",
            " 0   PRODUCT   5148 non-null   object\n",
            " 1   DETAIL    5148 non-null   object\n",
            " 2   MRP       5148 non-null   object\n",
            " 3   Place     5148 non-null   object\n",
            " 4   Auto/Man  5107 non-null   object\n",
            "dtypes: object(5)\n",
            "memory usage: 201.2+ KB\n"
          ]
        }
      ],
      "source": [
        "df.info()"
      ]
    },
    {
      "cell_type": "code",
      "execution_count": null,
      "metadata": {
        "colab": {
          "base_uri": "https://localhost:8080/",
          "height": 250
        },
        "id": "PJBm4sCQXMmt",
        "outputId": "0e707f43-425b-4841-eef0-49687434161d"
      },
      "outputs": [
        {
          "output_type": "execute_result",
          "data": {
            "text/plain": [
              "                   PRODUCT                    DETAIL        MRP        Place  \\\n",
              "5143      2013 Hyundai Eon  46,257 km1st OwnerPetrol  ₹2,64,799  Ahmedabad     \n",
              "5144     2019 Maruti Dzire  12,645 km1st OwnerPetrol  ₹6,94,799  Ahmedabad     \n",
              "5145    2019 Maruti Baleno  27,158 km1st OwnerPetrol  ₹6,61,199  Ahmedabad     \n",
              "5146       2017 Honda Brio  18,821 km1st OwnerPetrol  ₹5,84,999  Ahmedabad     \n",
              "5147  2018 Maruti Alto 800  42,124 km1st OwnerPetrol  ₹3,10,299  Ahmedabad     \n",
              "\n",
              "       Auto/Man  \n",
              "5143     Manual  \n",
              "5144     Manual  \n",
              "5145     Manual  \n",
              "5146  Automatic  \n",
              "5147     Manual  "
            ],
            "text/html": [
              "\n",
              "  <div id=\"df-7a8ba483-ff05-4430-a568-ac6ddc5deb63\">\n",
              "    <div class=\"colab-df-container\">\n",
              "      <div>\n",
              "<style scoped>\n",
              "    .dataframe tbody tr th:only-of-type {\n",
              "        vertical-align: middle;\n",
              "    }\n",
              "\n",
              "    .dataframe tbody tr th {\n",
              "        vertical-align: top;\n",
              "    }\n",
              "\n",
              "    .dataframe thead th {\n",
              "        text-align: right;\n",
              "    }\n",
              "</style>\n",
              "<table border=\"1\" class=\"dataframe\">\n",
              "  <thead>\n",
              "    <tr style=\"text-align: right;\">\n",
              "      <th></th>\n",
              "      <th>PRODUCT</th>\n",
              "      <th>DETAIL</th>\n",
              "      <th>MRP</th>\n",
              "      <th>Place</th>\n",
              "      <th>Auto/Man</th>\n",
              "    </tr>\n",
              "  </thead>\n",
              "  <tbody>\n",
              "    <tr>\n",
              "      <th>5143</th>\n",
              "      <td>2013 Hyundai Eon</td>\n",
              "      <td>46,257 km1st OwnerPetrol</td>\n",
              "      <td>₹2,64,799</td>\n",
              "      <td>Ahmedabad</td>\n",
              "      <td>Manual</td>\n",
              "    </tr>\n",
              "    <tr>\n",
              "      <th>5144</th>\n",
              "      <td>2019 Maruti Dzire</td>\n",
              "      <td>12,645 km1st OwnerPetrol</td>\n",
              "      <td>₹6,94,799</td>\n",
              "      <td>Ahmedabad</td>\n",
              "      <td>Manual</td>\n",
              "    </tr>\n",
              "    <tr>\n",
              "      <th>5145</th>\n",
              "      <td>2019 Maruti Baleno</td>\n",
              "      <td>27,158 km1st OwnerPetrol</td>\n",
              "      <td>₹6,61,199</td>\n",
              "      <td>Ahmedabad</td>\n",
              "      <td>Manual</td>\n",
              "    </tr>\n",
              "    <tr>\n",
              "      <th>5146</th>\n",
              "      <td>2017 Honda Brio</td>\n",
              "      <td>18,821 km1st OwnerPetrol</td>\n",
              "      <td>₹5,84,999</td>\n",
              "      <td>Ahmedabad</td>\n",
              "      <td>Automatic</td>\n",
              "    </tr>\n",
              "    <tr>\n",
              "      <th>5147</th>\n",
              "      <td>2018 Maruti Alto 800</td>\n",
              "      <td>42,124 km1st OwnerPetrol</td>\n",
              "      <td>₹3,10,299</td>\n",
              "      <td>Ahmedabad</td>\n",
              "      <td>Manual</td>\n",
              "    </tr>\n",
              "  </tbody>\n",
              "</table>\n",
              "</div>\n",
              "      <button class=\"colab-df-convert\" onclick=\"convertToInteractive('df-7a8ba483-ff05-4430-a568-ac6ddc5deb63')\"\n",
              "              title=\"Convert this dataframe to an interactive table.\"\n",
              "              style=\"display:none;\">\n",
              "        \n",
              "  <svg xmlns=\"http://www.w3.org/2000/svg\" height=\"24px\"viewBox=\"0 0 24 24\"\n",
              "       width=\"24px\">\n",
              "    <path d=\"M0 0h24v24H0V0z\" fill=\"none\"/>\n",
              "    <path d=\"M18.56 5.44l.94 2.06.94-2.06 2.06-.94-2.06-.94-.94-2.06-.94 2.06-2.06.94zm-11 1L8.5 8.5l.94-2.06 2.06-.94-2.06-.94L8.5 2.5l-.94 2.06-2.06.94zm10 10l.94 2.06.94-2.06 2.06-.94-2.06-.94-.94-2.06-.94 2.06-2.06.94z\"/><path d=\"M17.41 7.96l-1.37-1.37c-.4-.4-.92-.59-1.43-.59-.52 0-1.04.2-1.43.59L10.3 9.45l-7.72 7.72c-.78.78-.78 2.05 0 2.83L4 21.41c.39.39.9.59 1.41.59.51 0 1.02-.2 1.41-.59l7.78-7.78 2.81-2.81c.8-.78.8-2.07 0-2.86zM5.41 20L4 18.59l7.72-7.72 1.47 1.35L5.41 20z\"/>\n",
              "  </svg>\n",
              "      </button>\n",
              "      \n",
              "  <style>\n",
              "    .colab-df-container {\n",
              "      display:flex;\n",
              "      flex-wrap:wrap;\n",
              "      gap: 12px;\n",
              "    }\n",
              "\n",
              "    .colab-df-convert {\n",
              "      background-color: #E8F0FE;\n",
              "      border: none;\n",
              "      border-radius: 50%;\n",
              "      cursor: pointer;\n",
              "      display: none;\n",
              "      fill: #1967D2;\n",
              "      height: 32px;\n",
              "      padding: 0 0 0 0;\n",
              "      width: 32px;\n",
              "    }\n",
              "\n",
              "    .colab-df-convert:hover {\n",
              "      background-color: #E2EBFA;\n",
              "      box-shadow: 0px 1px 2px rgba(60, 64, 67, 0.3), 0px 1px 3px 1px rgba(60, 64, 67, 0.15);\n",
              "      fill: #174EA6;\n",
              "    }\n",
              "\n",
              "    [theme=dark] .colab-df-convert {\n",
              "      background-color: #3B4455;\n",
              "      fill: #D2E3FC;\n",
              "    }\n",
              "\n",
              "    [theme=dark] .colab-df-convert:hover {\n",
              "      background-color: #434B5C;\n",
              "      box-shadow: 0px 1px 3px 1px rgba(0, 0, 0, 0.15);\n",
              "      filter: drop-shadow(0px 1px 2px rgba(0, 0, 0, 0.3));\n",
              "      fill: #FFFFFF;\n",
              "    }\n",
              "  </style>\n",
              "\n",
              "      <script>\n",
              "        const buttonEl =\n",
              "          document.querySelector('#df-7a8ba483-ff05-4430-a568-ac6ddc5deb63 button.colab-df-convert');\n",
              "        buttonEl.style.display =\n",
              "          google.colab.kernel.accessAllowed ? 'block' : 'none';\n",
              "\n",
              "        async function convertToInteractive(key) {\n",
              "          const element = document.querySelector('#df-7a8ba483-ff05-4430-a568-ac6ddc5deb63');\n",
              "          const dataTable =\n",
              "            await google.colab.kernel.invokeFunction('convertToInteractive',\n",
              "                                                     [key], {});\n",
              "          if (!dataTable) return;\n",
              "\n",
              "          const docLinkHtml = 'Like what you see? Visit the ' +\n",
              "            '<a target=\"_blank\" href=https://colab.research.google.com/notebooks/data_table.ipynb>data table notebook</a>'\n",
              "            + ' to learn more about interactive tables.';\n",
              "          element.innerHTML = '';\n",
              "          dataTable['output_type'] = 'display_data';\n",
              "          await google.colab.output.renderOutput(dataTable, element);\n",
              "          const docLink = document.createElement('div');\n",
              "          docLink.innerHTML = docLinkHtml;\n",
              "          element.appendChild(docLink);\n",
              "        }\n",
              "      </script>\n",
              "    </div>\n",
              "  </div>\n",
              "  "
            ]
          },
          "metadata": {},
          "execution_count": 34
        }
      ],
      "source": [
        "df.tail(5)"
      ]
    },
    {
      "cell_type": "code",
      "execution_count": null,
      "metadata": {
        "colab": {
          "base_uri": "https://localhost:8080/"
        },
        "id": "JjRwH_Siw76W",
        "outputId": "d43a8464-eafb-4e7b-d6a6-bc0820322a19"
      },
      "outputs": [
        {
          "output_type": "execute_result",
          "data": {
            "text/plain": [
              "PRODUCT      0\n",
              "DETAIL       0\n",
              "MRP          0\n",
              "Place        0\n",
              "Auto/Man    41\n",
              "dtype: int64"
            ]
          },
          "metadata": {},
          "execution_count": 35
        }
      ],
      "source": [
        "df.isnull().sum()"
      ]
    },
    {
      "cell_type": "code",
      "execution_count": null,
      "metadata": {
        "id": "Hq3b2OIxw_WP"
      },
      "outputs": [],
      "source": [
        "df=df.dropna(axis=0)"
      ]
    },
    {
      "cell_type": "code",
      "execution_count": null,
      "metadata": {
        "colab": {
          "base_uri": "https://localhost:8080/"
        },
        "id": "EVNZxVdkcr3v",
        "outputId": "ca709c5c-9951-46f3-8b4a-d909d8978958"
      },
      "outputs": [
        {
          "output_type": "execute_result",
          "data": {
            "text/plain": [
              "array(['Manual', 'Automatic'], dtype=object)"
            ]
          },
          "metadata": {},
          "execution_count": 37
        }
      ],
      "source": [
        "df[\"Auto/Man\"].unique()"
      ]
    },
    {
      "cell_type": "code",
      "execution_count": null,
      "metadata": {
        "id": "7I9BnVEkeb68"
      },
      "outputs": [],
      "source": [
        "import regex as re\n",
        "regex = '.*km'\n",
        "df['MILAGECOVERED'] = df['DETAIL'].apply(lambda x : re.findall(regex, x) if(re.findall(regex, x)!=[]) else [\"0\"])\n",
        "regex = '[\\d]+[a-z]+[a-z]+[\\s]+Owner'\n",
        "df['INHAND'] = df['DETAIL'].apply(lambda x : re.findall(regex, x))\n",
        "regex = 'Petrol|Diesel|Petrol+CNG}{1,1}'\n",
        "df['ENGINETYPE'] = df['DETAIL'].apply(lambda x : re.findall(regex, x))\n",
        "regex = '[1-90]{4}'\n",
        "df['MANUFACTURE'] = df['PRODUCT'].apply(lambda x : re.findall(regex, x))\n",
        "regex = '[^1-90]+[\\d\\w]'\n",
        "df['NAME'] = df['PRODUCT'].apply(lambda x : x[5:])"
      ]
    },
    {
      "cell_type": "code",
      "execution_count": null,
      "metadata": {
        "id": "WQepYCh8gI-A"
      },
      "outputs": [],
      "source": [
        "df.NAME= df.NAME.apply(lambda x : ''.join(x))\n",
        "df.ENGINETYPE= df.ENGINETYPE.apply(lambda x : ''.join(x))\n",
        "df.MANUFACTURE= df.MANUFACTURE.apply(lambda x : ''.join(x))\n",
        "df.MILAGECOVERED= df.MILAGECOVERED.apply(lambda x : ''.join(x))\n",
        "df.INHAND= df.INHAND.apply(lambda x : ''.join(x))"
      ]
    },
    {
      "cell_type": "code",
      "execution_count": null,
      "metadata": {
        "id": "p_RAPrs0gBFs"
      },
      "outputs": [],
      "source": [
        "df.MRP = df.MRP.apply(lambda x : x.replace('₹', '').replace(',', '')).astype(float)"
      ]
    },
    {
      "cell_type": "code",
      "execution_count": null,
      "metadata": {
        "id": "XUGFIWze85mx"
      },
      "outputs": [],
      "source": [
        "df.MANUFACTURE = df.MANUFACTURE.apply(lambda x : x.replace('₹', '').replace(',', '')).astype(int)"
      ]
    },
    {
      "cell_type": "code",
      "execution_count": null,
      "metadata": {
        "id": "ZomOSUMwqN-U"
      },
      "outputs": [],
      "source": [
        "df.MILAGECOVERED = df.MILAGECOVERED.apply(lambda i : i.replace('km', '').replace(' ', '').replace('\\n','').replace(',','')).astype(float)"
      ]
    },
    {
      "cell_type": "code",
      "execution_count": null,
      "metadata": {
        "id": "1VF6bwvh0pdy"
      },
      "outputs": [],
      "source": [
        "df['Brand_Name'] = df['NAME'].str.split(' ').str[0]\n",
        "df[\"Model\"]=df['NAME'].str.split(' ').str[1:]\n",
        "df.Model= df.Model.apply(lambda x : ' '.join(x))\n",
        "df=df.drop([\"NAME\"],axis='columns')"
      ]
    },
    {
      "cell_type": "code",
      "execution_count": null,
      "metadata": {
        "id": "JJJHH1JTEWqV"
      },
      "outputs": [],
      "source": [
        "df=df[['Brand_Name','Model','Place','ENGINETYPE','MANUFACTURE','MILAGECOVERED','INHAND','Auto/Man','MRP']]"
      ]
    },
    {
      "cell_type": "code",
      "execution_count": null,
      "metadata": {
        "colab": {
          "base_uri": "https://localhost:8080/",
          "height": 363
        },
        "id": "zYejEHem0sQT",
        "outputId": "5805b3f2-36ec-4e1c-eab1-9960b5af6cf0"
      },
      "outputs": [
        {
          "data": {
            "text/html": [
              "\n",
              "  <div id=\"df-5f2becbb-d31c-46c5-9463-37d5eb651668\">\n",
              "    <div class=\"colab-df-container\">\n",
              "      <div>\n",
              "<style scoped>\n",
              "    .dataframe tbody tr th:only-of-type {\n",
              "        vertical-align: middle;\n",
              "    }\n",
              "\n",
              "    .dataframe tbody tr th {\n",
              "        vertical-align: top;\n",
              "    }\n",
              "\n",
              "    .dataframe thead th {\n",
              "        text-align: right;\n",
              "    }\n",
              "</style>\n",
              "<table border=\"1\" class=\"dataframe\">\n",
              "  <thead>\n",
              "    <tr style=\"text-align: right;\">\n",
              "      <th></th>\n",
              "      <th>Brand_Name</th>\n",
              "      <th>Model</th>\n",
              "      <th>Place</th>\n",
              "      <th>ENGINETYPE</th>\n",
              "      <th>MANUFACTURE</th>\n",
              "      <th>MILAGECOVERED</th>\n",
              "      <th>INHAND</th>\n",
              "      <th>Auto/Man</th>\n",
              "      <th>MRP</th>\n",
              "    </tr>\n",
              "  </thead>\n",
              "  <tbody>\n",
              "    <tr>\n",
              "      <th>0</th>\n",
              "      <td>13</td>\n",
              "      <td>95</td>\n",
              "      <td>7</td>\n",
              "      <td>0</td>\n",
              "      <td>6</td>\n",
              "      <td>68316.0</td>\n",
              "      <td>0</td>\n",
              "      <td>1</td>\n",
              "      <td>522599.0</td>\n",
              "    </tr>\n",
              "    <tr>\n",
              "      <th>1</th>\n",
              "      <td>14</td>\n",
              "      <td>90</td>\n",
              "      <td>7</td>\n",
              "      <td>0</td>\n",
              "      <td>6</td>\n",
              "      <td>98106.0</td>\n",
              "      <td>0</td>\n",
              "      <td>1</td>\n",
              "      <td>416399.0</td>\n",
              "    </tr>\n",
              "    <tr>\n",
              "      <th>2</th>\n",
              "      <td>14</td>\n",
              "      <td>10</td>\n",
              "      <td>7</td>\n",
              "      <td>1</td>\n",
              "      <td>11</td>\n",
              "      <td>10881.0</td>\n",
              "      <td>0</td>\n",
              "      <td>1</td>\n",
              "      <td>427199.0</td>\n",
              "    </tr>\n",
              "    <tr>\n",
              "      <th>3</th>\n",
              "      <td>14</td>\n",
              "      <td>89</td>\n",
              "      <td>7</td>\n",
              "      <td>0</td>\n",
              "      <td>7</td>\n",
              "      <td>45601.0</td>\n",
              "      <td>0</td>\n",
              "      <td>1</td>\n",
              "      <td>432499.0</td>\n",
              "    </tr>\n",
              "    <tr>\n",
              "      <th>4</th>\n",
              "      <td>7</td>\n",
              "      <td>117</td>\n",
              "      <td>7</td>\n",
              "      <td>0</td>\n",
              "      <td>5</td>\n",
              "      <td>64542.0</td>\n",
              "      <td>0</td>\n",
              "      <td>1</td>\n",
              "      <td>364899.0</td>\n",
              "    </tr>\n",
              "    <tr>\n",
              "      <th>5</th>\n",
              "      <td>14</td>\n",
              "      <td>10</td>\n",
              "      <td>7</td>\n",
              "      <td>1</td>\n",
              "      <td>10</td>\n",
              "      <td>23859.0</td>\n",
              "      <td>0</td>\n",
              "      <td>0</td>\n",
              "      <td>392999.0</td>\n",
              "    </tr>\n",
              "    <tr>\n",
              "      <th>6</th>\n",
              "      <td>14</td>\n",
              "      <td>89</td>\n",
              "      <td>7</td>\n",
              "      <td>0</td>\n",
              "      <td>7</td>\n",
              "      <td>89724.0</td>\n",
              "      <td>0</td>\n",
              "      <td>1</td>\n",
              "      <td>392899.0</td>\n",
              "    </tr>\n",
              "    <tr>\n",
              "      <th>7</th>\n",
              "      <td>14</td>\n",
              "      <td>89</td>\n",
              "      <td>7</td>\n",
              "      <td>1</td>\n",
              "      <td>6</td>\n",
              "      <td>107937.0</td>\n",
              "      <td>0</td>\n",
              "      <td>1</td>\n",
              "      <td>392399.0</td>\n",
              "    </tr>\n",
              "    <tr>\n",
              "      <th>8</th>\n",
              "      <td>5</td>\n",
              "      <td>35</td>\n",
              "      <td>7</td>\n",
              "      <td>0</td>\n",
              "      <td>6</td>\n",
              "      <td>156338.0</td>\n",
              "      <td>0</td>\n",
              "      <td>1</td>\n",
              "      <td>455199.0</td>\n",
              "    </tr>\n",
              "    <tr>\n",
              "      <th>9</th>\n",
              "      <td>14</td>\n",
              "      <td>39</td>\n",
              "      <td>7</td>\n",
              "      <td>0</td>\n",
              "      <td>5</td>\n",
              "      <td>113060.0</td>\n",
              "      <td>0</td>\n",
              "      <td>1</td>\n",
              "      <td>459999.0</td>\n",
              "    </tr>\n",
              "  </tbody>\n",
              "</table>\n",
              "</div>\n",
              "      <button class=\"colab-df-convert\" onclick=\"convertToInteractive('df-5f2becbb-d31c-46c5-9463-37d5eb651668')\"\n",
              "              title=\"Convert this dataframe to an interactive table.\"\n",
              "              style=\"display:none;\">\n",
              "        \n",
              "  <svg xmlns=\"http://www.w3.org/2000/svg\" height=\"24px\"viewBox=\"0 0 24 24\"\n",
              "       width=\"24px\">\n",
              "    <path d=\"M0 0h24v24H0V0z\" fill=\"none\"/>\n",
              "    <path d=\"M18.56 5.44l.94 2.06.94-2.06 2.06-.94-2.06-.94-.94-2.06-.94 2.06-2.06.94zm-11 1L8.5 8.5l.94-2.06 2.06-.94-2.06-.94L8.5 2.5l-.94 2.06-2.06.94zm10 10l.94 2.06.94-2.06 2.06-.94-2.06-.94-.94-2.06-.94 2.06-2.06.94z\"/><path d=\"M17.41 7.96l-1.37-1.37c-.4-.4-.92-.59-1.43-.59-.52 0-1.04.2-1.43.59L10.3 9.45l-7.72 7.72c-.78.78-.78 2.05 0 2.83L4 21.41c.39.39.9.59 1.41.59.51 0 1.02-.2 1.41-.59l7.78-7.78 2.81-2.81c.8-.78.8-2.07 0-2.86zM5.41 20L4 18.59l7.72-7.72 1.47 1.35L5.41 20z\"/>\n",
              "  </svg>\n",
              "      </button>\n",
              "      \n",
              "  <style>\n",
              "    .colab-df-container {\n",
              "      display:flex;\n",
              "      flex-wrap:wrap;\n",
              "      gap: 12px;\n",
              "    }\n",
              "\n",
              "    .colab-df-convert {\n",
              "      background-color: #E8F0FE;\n",
              "      border: none;\n",
              "      border-radius: 50%;\n",
              "      cursor: pointer;\n",
              "      display: none;\n",
              "      fill: #1967D2;\n",
              "      height: 32px;\n",
              "      padding: 0 0 0 0;\n",
              "      width: 32px;\n",
              "    }\n",
              "\n",
              "    .colab-df-convert:hover {\n",
              "      background-color: #E2EBFA;\n",
              "      box-shadow: 0px 1px 2px rgba(60, 64, 67, 0.3), 0px 1px 3px 1px rgba(60, 64, 67, 0.15);\n",
              "      fill: #174EA6;\n",
              "    }\n",
              "\n",
              "    [theme=dark] .colab-df-convert {\n",
              "      background-color: #3B4455;\n",
              "      fill: #D2E3FC;\n",
              "    }\n",
              "\n",
              "    [theme=dark] .colab-df-convert:hover {\n",
              "      background-color: #434B5C;\n",
              "      box-shadow: 0px 1px 3px 1px rgba(0, 0, 0, 0.15);\n",
              "      filter: drop-shadow(0px 1px 2px rgba(0, 0, 0, 0.3));\n",
              "      fill: #FFFFFF;\n",
              "    }\n",
              "  </style>\n",
              "\n",
              "      <script>\n",
              "        const buttonEl =\n",
              "          document.querySelector('#df-5f2becbb-d31c-46c5-9463-37d5eb651668 button.colab-df-convert');\n",
              "        buttonEl.style.display =\n",
              "          google.colab.kernel.accessAllowed ? 'block' : 'none';\n",
              "\n",
              "        async function convertToInteractive(key) {\n",
              "          const element = document.querySelector('#df-5f2becbb-d31c-46c5-9463-37d5eb651668');\n",
              "          const dataTable =\n",
              "            await google.colab.kernel.invokeFunction('convertToInteractive',\n",
              "                                                     [key], {});\n",
              "          if (!dataTable) return;\n",
              "\n",
              "          const docLinkHtml = 'Like what you see? Visit the ' +\n",
              "            '<a target=\"_blank\" href=https://colab.research.google.com/notebooks/data_table.ipynb>data table notebook</a>'\n",
              "            + ' to learn more about interactive tables.';\n",
              "          element.innerHTML = '';\n",
              "          dataTable['output_type'] = 'display_data';\n",
              "          await google.colab.output.renderOutput(dataTable, element);\n",
              "          const docLink = document.createElement('div');\n",
              "          docLink.innerHTML = docLinkHtml;\n",
              "          element.appendChild(docLink);\n",
              "        }\n",
              "      </script>\n",
              "    </div>\n",
              "  </div>\n",
              "  "
            ],
            "text/plain": [
              "   Brand_Name  Model  Place  ENGINETYPE  MANUFACTURE  MILAGECOVERED  INHAND  \\\n",
              "0          13     95      7           0            6        68316.0       0   \n",
              "1          14     90      7           0            6        98106.0       0   \n",
              "2          14     10      7           1           11        10881.0       0   \n",
              "3          14     89      7           0            7        45601.0       0   \n",
              "4           7    117      7           0            5        64542.0       0   \n",
              "5          14     10      7           1           10        23859.0       0   \n",
              "6          14     89      7           0            7        89724.0       0   \n",
              "7          14     89      7           1            6       107937.0       0   \n",
              "8           5     35      7           0            6       156338.0       0   \n",
              "9          14     39      7           0            5       113060.0       0   \n",
              "\n",
              "   Auto/Man       MRP  \n",
              "0         1  522599.0  \n",
              "1         1  416399.0  \n",
              "2         1  427199.0  \n",
              "3         1  432499.0  \n",
              "4         1  364899.0  \n",
              "5         0  392999.0  \n",
              "6         1  392899.0  \n",
              "7         1  392399.0  \n",
              "8         1  455199.0  \n",
              "9         1  459999.0  "
            ]
          },
          "execution_count": 15,
          "metadata": {},
          "output_type": "execute_result"
        }
      ],
      "source": [
        "df.head(10)"
      ]
    },
    {
      "cell_type": "code",
      "execution_count": null,
      "metadata": {
        "id": "hpwx-vmX63Qy"
      },
      "outputs": [],
      "source": [
        "le_ENGINETYPE=LabelEncoder()\n",
        "le_Brand_Name=LabelEncoder()\n",
        "le_Model=LabelEncoder()\n",
        "le_INHAND=LabelEncoder()\n",
        "le_Place=LabelEncoder()\n",
        "le_Automan=LabelEncoder()\n",
        "le_Year=LabelEncoder()\n",
        "df['ENGINETYPE']= le_ENGINETYPE.fit_transform(df['ENGINETYPE'])\n",
        "df['Brand_Name']=le_Brand_Name.fit_transform(df['Brand_Name'])\n",
        "df['Model']=le_Model.fit_transform(df['Model'])\n",
        "df['INHAND']=le_INHAND.fit_transform(df['INHAND'])\n",
        "df['Place']=le_Place.fit_transform(df['Place'])\n",
        "df['Auto/Man']=le_Automan.fit_transform(df['Auto/Man'])\n",
        "df['MANUFACTURE']=le_Year.fit_transform(df['MANUFACTURE'])"
      ]
    },
    {
      "cell_type": "code",
      "execution_count": null,
      "metadata": {
        "colab": {
          "base_uri": "https://localhost:8080/"
        },
        "id": "GwVTSVibqn3v",
        "outputId": "e462c613-c5b5-401e-90ad-115d74334dae"
      },
      "outputs": [
        {
          "output_type": "stream",
          "name": "stdout",
          "text": [
            "Requirement already satisfied: configparser in /usr/local/lib/python3.7/dist-packages (5.2.0)\n"
          ]
        }
      ],
      "source": [
        "pip install configparser"
      ]
    },
    {
      "cell_type": "code",
      "execution_count": null,
      "metadata": {
        "id": "x9vi3MlrDsOd"
      },
      "outputs": [],
      "source": [
        "import configparser\n",
        "config = configparser.ConfigParser()\n",
        "x={}\n",
        "k=0\n",
        "for i in le_ENGINETYPE.classes_:\n",
        "  x[i]=k\n",
        "  k+=1\n",
        "config[\"Engine Type\"]=x\n",
        "#print(le_ENGINETYPE.classes_)\n",
        "\n",
        "x={}\n",
        "k=0\n",
        "for i in le_Brand_Name.classes_:\n",
        "  x[i]=k\n",
        "  k+=1\n",
        "config[\"Brand\"]=x\n",
        "#print(le_Brand_Name.classes_)\n",
        "\n",
        "x={}\n",
        "k=0\n",
        "for i in le_Model.classes_:\n",
        "  x[i]=k\n",
        "  k+=1\n",
        "config[\"Model\"]=x\n",
        "#print(le_Model.classes_)\n",
        "\n",
        "x={}\n",
        "k=0\n",
        "for i in le_INHAND.classes_:\n",
        "  x[i]=k\n",
        "  k+=1\n",
        "config[\"Inhand\"]=x\n",
        "#print(le_INHAND.classes_ )\n",
        "\n",
        "x={}\n",
        "k=0\n",
        "for i in le_Place.classes_:\n",
        "  x[i]=k\n",
        "  k+=1\n",
        "config[\"Place\"]=x\n",
        "#print(le_Place.classes_)\n",
        "\n",
        "x={}\n",
        "k=0\n",
        "for i in le_Automan.classes_:\n",
        "  x[i]=k\n",
        "  k+=1\n",
        "config[\"Automan\"]=x\n",
        "\n",
        "x={}\n",
        "k=0\n",
        "for i in le_Year.classes_:\n",
        "  x[i]=k\n",
        "  k+=1\n",
        "config[\"Year\"]=x\n",
        "\n",
        "with open('example.ini', 'w') as configfile:\n",
        "  config.write(configfile)\n",
        "\n"
      ]
    },
    {
      "cell_type": "code",
      "execution_count": null,
      "metadata": {
        "colab": {
          "base_uri": "https://localhost:8080/"
        },
        "id": "W4UraNvguUFE",
        "outputId": "be95763d-8119-4e65-af23-6569398ad853"
      },
      "outputs": [
        {
          "name": "stdout",
          "output_type": "stream",
          "text": [
            "0 Diesel\n",
            "1 Petrol\n"
          ]
        }
      ],
      "source": [
        "config = configparser.ConfigParser()\n",
        "config.read(\"example.ini\")\n",
        "for i in config['Engine Type']:\n",
        "  print(i,config['Engine Type'][i])"
      ]
    },
    {
      "cell_type": "code",
      "execution_count": null,
      "metadata": {
        "id": "0toDWy__44uy"
      },
      "outputs": [],
      "source": [
        "df3_input=df.drop([\"MRP\"],axis='columns')\n",
        "df3_target=df['MRP']"
      ]
    },
    {
      "cell_type": "code",
      "execution_count": null,
      "metadata": {
        "id": "nxj6KMJyG47A"
      },
      "outputs": [],
      "source": [
        "df.to_csv(\"cars24_y.csv\")"
      ]
    },
    {
      "cell_type": "code",
      "execution_count": null,
      "metadata": {
        "id": "8ZDsiFB3G-5N"
      },
      "outputs": [],
      "source": [
        "def trainingData(df,n):\n",
        "    X = df.iloc[:,n]\n",
        "    y = df.iloc[:,-1:].values.T\n",
        "    y=y[0]\n",
        "    X_train,X_test,y_train,y_test=train_test_split(X,y,train_size=0.9,test_size=0.1,random_state=0)\n",
        "    return (X_train,X_test,y_train,y_test)\n",
        "\n",
        "X_train,X_test,y_train,y_test=trainingData(df,list(range(len(list(df.columns))-1)))"
      ]
    },
    {
      "cell_type": "code",
      "execution_count": null,
      "metadata": {
        "colab": {
          "base_uri": "https://localhost:8080/"
        },
        "id": "1kFrf1-L0WoW",
        "outputId": "8c77b656-0e51-47eb-ecea-1f423144bdb9"
      },
      "outputs": [
        {
          "name": "stdout",
          "output_type": "stream",
          "text": [
            "<class 'pandas.core.frame.DataFrame'>\n",
            "Int64Index: 4710 entries, 1726 to 2751\n",
            "Data columns (total 8 columns):\n",
            " #   Column         Non-Null Count  Dtype  \n",
            "---  ------         --------------  -----  \n",
            " 0   Brand_Name     4710 non-null   int64  \n",
            " 1   Model          4710 non-null   int64  \n",
            " 2   Place          4710 non-null   int64  \n",
            " 3   ENGINETYPE     4710 non-null   int64  \n",
            " 4   MANUFACTURE    4710 non-null   int64  \n",
            " 5   MILAGECOVERED  4710 non-null   float64\n",
            " 6   INHAND         4710 non-null   int64  \n",
            " 7   Auto/Man       4710 non-null   int64  \n",
            "dtypes: float64(1), int64(7)\n",
            "memory usage: 331.2 KB\n"
          ]
        }
      ],
      "source": [
        "X_train.info()"
      ]
    },
    {
      "cell_type": "code",
      "execution_count": null,
      "metadata": {
        "id": "oxxXqdpXIAxD"
      },
      "outputs": [],
      "source": [
        "def remove_neg(y_test,y_pred):\n",
        "    ind=[index for index in range(len(y_pred)) if(y_pred[index]>0)]\n",
        "    y_pred=y_pred[ind]\n",
        "    y_test=y_test[ind]\n",
        "    y_pred[y_pred<0]\n",
        "    return (y_test,y_pred)\n",
        "\n",
        "#function for evaluation of model\n",
        "def result(y_test,y_pred):\n",
        "    r=[]\n",
        "    r.append(mean_squared_log_error(y_test, y_pred))\n",
        "    r.append(np.sqrt(r[0]))\n",
        "    r.append(r2_score(y_test,y_pred))\n",
        "    r.append(round(r2_score(y_test,y_pred)*100,4))\n",
        "    return (r)\n",
        "\n",
        "#dataframe that store the performance of each model\n",
        "accu=pd.DataFrame(index=['MSLE', 'Root MSLE', 'R2 Score','Accuracy(%)'])  "
      ]
    },
    {
      "cell_type": "code",
      "execution_count": null,
      "metadata": {
        "colab": {
          "base_uri": "https://localhost:8080/"
        },
        "id": "aQtb5OM-Is5B",
        "outputId": "4f86662b-0460-44c2-8d40-95f29fc3b9a1"
      },
      "outputs": [
        {
          "output_type": "stream",
          "name": "stdout",
          "text": [
            "MSLE : 0.011411449301026114\n",
            "Root MSLE : 0.1068243853295029\n",
            "R2 Score : 0.9222876768608712 or 92.2288%\n"
          ]
        }
      ],
      "source": [
        "RFR = RandomForestRegressor(n_estimators=180,random_state=0, min_samples_leaf=1, max_features=0.5, n_jobs=-1, oob_score=True)\n",
        "RFR.fit(X_train,y_train)\n",
        "y_pred = RFR.predict(X_test)\n",
        "r5_rf=result(y_test,y_pred)\n",
        "print(\"MSLE : {}\".format(r5_rf[0]))\n",
        "print(\"Root MSLE : {}\".format(r5_rf[1]))\n",
        "print(\"R2 Score : {} or {}%\".format(r5_rf[2],r5_rf[3]))\n",
        "accu['RandomForest Regressor']=r5_rf"
      ]
    },
    {
      "cell_type": "code",
      "execution_count": null,
      "metadata": {
        "colab": {
          "base_uri": "https://localhost:8080/"
        },
        "id": "EP2jX2GeI6lS",
        "outputId": "c7151d26-a63f-48a4-db4a-25fa4d7eb5a8"
      },
      "outputs": [
        {
          "output_type": "stream",
          "name": "stdout",
          "text": [
            "MSLE : 0.009710287919306278\n",
            "Root MSLE : 0.09854079317372211\n",
            "R2 Score : 0.923109804076181 or 92.311%\n"
          ]
        }
      ],
      "source": [
        "ABR = AdaBoostRegressor(\n",
        "    DecisionTreeRegressor(max_depth=24),\n",
        "    n_estimators=200,learning_rate=0.6\n",
        ")\n",
        "\n",
        "ABR.fit(X_train, y_train)\n",
        "y_pred = ABR.predict(X_test)\n",
        "#model evaluation\n",
        "r7_ab=result(y_test,y_pred)\n",
        "print(\"MSLE : {}\".format(r7_ab[0]))\n",
        "print(\"Root MSLE : {}\".format(r7_ab[1]))\n",
        "print(\"R2 Score : {} or {}%\".format(r7_ab[2],r7_ab[3]))\n",
        "accu['AdaBoost Regression']=r7_ab"
      ]
    },
    {
      "cell_type": "code",
      "execution_count": null,
      "metadata": {
        "colab": {
          "base_uri": "https://localhost:8080/"
        },
        "id": "ilQ7ioSWJNIF",
        "outputId": "fc102238-26c0-4745-b03d-e741cade6955"
      },
      "outputs": [
        {
          "output_type": "stream",
          "name": "stdout",
          "text": [
            "MSLE : 0.010034994807991311\n",
            "Root MSLE : 0.10017482122764837\n",
            "R2 Score : 0.9342202760802714 or 93.422%\n"
          ]
        }
      ],
      "source": [
        "xg_reg = xgb.XGBRegressor(objective ='reg:squarederror', learning_rate = 0.4,\n",
        "                max_depth = 24, alpha = 5, n_estimators = 200)\n",
        "X_test = X_test.to_numpy()\n",
        "X_train = X_train.to_numpy()\n",
        "xg_reg.fit(X_train,y_train)\n",
        "y_pred = xg_reg.predict(X_test)\n",
        "#model evaluation\n",
        "y_test_1,y_pred_1=remove_neg(y_test,y_pred)\n",
        "r8_xg=result(y_test_1,y_pred_1)\n",
        "print(\"MSLE : {}\".format(r8_xg[0]))\n",
        "print(\"Root MSLE : {}\".format(r8_xg[1]))\n",
        "print(\"R2 Score : {} or {}%\".format(r8_xg[2],r8_xg[3]))\n",
        "accu['XGBoost Regressor']=r8_xg"
      ]
    },
    {
      "cell_type": "code",
      "execution_count": null,
      "metadata": {
        "colab": {
          "base_uri": "https://localhost:8080/",
          "height": 175
        },
        "id": "-ze6yzuaJmiG",
        "outputId": "1b001fc7-997f-4c94-f644-b888c816cb4d"
      },
      "outputs": [
        {
          "data": {
            "text/html": [
              "\n",
              "  <div id=\"df-d6cf2db7-41c3-4467-8124-290194faff11\">\n",
              "    <div class=\"colab-df-container\">\n",
              "      <div>\n",
              "<style scoped>\n",
              "    .dataframe tbody tr th:only-of-type {\n",
              "        vertical-align: middle;\n",
              "    }\n",
              "\n",
              "    .dataframe tbody tr th {\n",
              "        vertical-align: top;\n",
              "    }\n",
              "\n",
              "    .dataframe thead th {\n",
              "        text-align: right;\n",
              "    }\n",
              "</style>\n",
              "<table border=\"1\" class=\"dataframe\">\n",
              "  <thead>\n",
              "    <tr style=\"text-align: right;\">\n",
              "      <th></th>\n",
              "      <th>RandomForest Regressor</th>\n",
              "      <th>AdaBoost Regression</th>\n",
              "      <th>XGBoost Regressor</th>\n",
              "    </tr>\n",
              "  </thead>\n",
              "  <tbody>\n",
              "    <tr>\n",
              "      <th>MSLE</th>\n",
              "      <td>0.011489</td>\n",
              "      <td>0.010662</td>\n",
              "      <td>0.010992</td>\n",
              "    </tr>\n",
              "    <tr>\n",
              "      <th>Root MSLE</th>\n",
              "      <td>0.107186</td>\n",
              "      <td>0.103259</td>\n",
              "      <td>0.104841</td>\n",
              "    </tr>\n",
              "    <tr>\n",
              "      <th>R2 Score</th>\n",
              "      <td>0.932745</td>\n",
              "      <td>0.935706</td>\n",
              "      <td>0.933847</td>\n",
              "    </tr>\n",
              "    <tr>\n",
              "      <th>Accuracy(%)</th>\n",
              "      <td>93.274500</td>\n",
              "      <td>93.570600</td>\n",
              "      <td>93.384700</td>\n",
              "    </tr>\n",
              "  </tbody>\n",
              "</table>\n",
              "</div>\n",
              "      <button class=\"colab-df-convert\" onclick=\"convertToInteractive('df-d6cf2db7-41c3-4467-8124-290194faff11')\"\n",
              "              title=\"Convert this dataframe to an interactive table.\"\n",
              "              style=\"display:none;\">\n",
              "        \n",
              "  <svg xmlns=\"http://www.w3.org/2000/svg\" height=\"24px\"viewBox=\"0 0 24 24\"\n",
              "       width=\"24px\">\n",
              "    <path d=\"M0 0h24v24H0V0z\" fill=\"none\"/>\n",
              "    <path d=\"M18.56 5.44l.94 2.06.94-2.06 2.06-.94-2.06-.94-.94-2.06-.94 2.06-2.06.94zm-11 1L8.5 8.5l.94-2.06 2.06-.94-2.06-.94L8.5 2.5l-.94 2.06-2.06.94zm10 10l.94 2.06.94-2.06 2.06-.94-2.06-.94-.94-2.06-.94 2.06-2.06.94z\"/><path d=\"M17.41 7.96l-1.37-1.37c-.4-.4-.92-.59-1.43-.59-.52 0-1.04.2-1.43.59L10.3 9.45l-7.72 7.72c-.78.78-.78 2.05 0 2.83L4 21.41c.39.39.9.59 1.41.59.51 0 1.02-.2 1.41-.59l7.78-7.78 2.81-2.81c.8-.78.8-2.07 0-2.86zM5.41 20L4 18.59l7.72-7.72 1.47 1.35L5.41 20z\"/>\n",
              "  </svg>\n",
              "      </button>\n",
              "      \n",
              "  <style>\n",
              "    .colab-df-container {\n",
              "      display:flex;\n",
              "      flex-wrap:wrap;\n",
              "      gap: 12px;\n",
              "    }\n",
              "\n",
              "    .colab-df-convert {\n",
              "      background-color: #E8F0FE;\n",
              "      border: none;\n",
              "      border-radius: 50%;\n",
              "      cursor: pointer;\n",
              "      display: none;\n",
              "      fill: #1967D2;\n",
              "      height: 32px;\n",
              "      padding: 0 0 0 0;\n",
              "      width: 32px;\n",
              "    }\n",
              "\n",
              "    .colab-df-convert:hover {\n",
              "      background-color: #E2EBFA;\n",
              "      box-shadow: 0px 1px 2px rgba(60, 64, 67, 0.3), 0px 1px 3px 1px rgba(60, 64, 67, 0.15);\n",
              "      fill: #174EA6;\n",
              "    }\n",
              "\n",
              "    [theme=dark] .colab-df-convert {\n",
              "      background-color: #3B4455;\n",
              "      fill: #D2E3FC;\n",
              "    }\n",
              "\n",
              "    [theme=dark] .colab-df-convert:hover {\n",
              "      background-color: #434B5C;\n",
              "      box-shadow: 0px 1px 3px 1px rgba(0, 0, 0, 0.15);\n",
              "      filter: drop-shadow(0px 1px 2px rgba(0, 0, 0, 0.3));\n",
              "      fill: #FFFFFF;\n",
              "    }\n",
              "  </style>\n",
              "\n",
              "      <script>\n",
              "        const buttonEl =\n",
              "          document.querySelector('#df-d6cf2db7-41c3-4467-8124-290194faff11 button.colab-df-convert');\n",
              "        buttonEl.style.display =\n",
              "          google.colab.kernel.accessAllowed ? 'block' : 'none';\n",
              "\n",
              "        async function convertToInteractive(key) {\n",
              "          const element = document.querySelector('#df-d6cf2db7-41c3-4467-8124-290194faff11');\n",
              "          const dataTable =\n",
              "            await google.colab.kernel.invokeFunction('convertToInteractive',\n",
              "                                                     [key], {});\n",
              "          if (!dataTable) return;\n",
              "\n",
              "          const docLinkHtml = 'Like what you see? Visit the ' +\n",
              "            '<a target=\"_blank\" href=https://colab.research.google.com/notebooks/data_table.ipynb>data table notebook</a>'\n",
              "            + ' to learn more about interactive tables.';\n",
              "          element.innerHTML = '';\n",
              "          dataTable['output_type'] = 'display_data';\n",
              "          await google.colab.output.renderOutput(dataTable, element);\n",
              "          const docLink = document.createElement('div');\n",
              "          docLink.innerHTML = docLinkHtml;\n",
              "          element.appendChild(docLink);\n",
              "        }\n",
              "      </script>\n",
              "    </div>\n",
              "  </div>\n",
              "  "
            ],
            "text/plain": [
              "             RandomForest Regressor  AdaBoost Regression  XGBoost Regressor\n",
              "MSLE                       0.011489             0.010662           0.010992\n",
              "Root MSLE                  0.107186             0.103259           0.104841\n",
              "R2 Score                   0.932745             0.935706           0.933847\n",
              "Accuracy(%)               93.274500            93.570600          93.384700"
            ]
          },
          "execution_count": 21,
          "metadata": {},
          "output_type": "execute_result"
        }
      ],
      "source": [
        "accu.to_csv('errors.csv')\n",
        "accu=pd.read_csv('./errors.csv',index_col=0)\n",
        "accu"
      ]
    },
    {
      "cell_type": "code",
      "execution_count": null,
      "metadata": {
        "colab": {
          "base_uri": "https://localhost:8080/",
          "height": 388
        },
        "id": "y-qzOC6ez3wj",
        "outputId": "d3f12f76-b034-46ed-cdac-86ef517519e7"
      },
      "outputs": [
        {
          "data": {
            "image/png": "[encoded data removed]",
            "text/plain": [
              "<Figure size 1440x432 with 1 Axes>"
            ]
          },
          "metadata": {},
          "output_type": "display_data"
        }
      ],
      "source": [
        "model_accuracy=accu.loc['Accuracy(%)']\n",
        "x=list(range(len(model_accuracy)))\n",
        "y=list(range(0,101,10))\n",
        "props = dict(boxstyle='round', facecolor='white', alpha=0.8)\n",
        "plt.figure(figsize=(20,6))\n",
        "plt.plot(model_accuracy)\n",
        "plt.yticks(y)\n",
        "plt.xticks(fontsize=20)\n",
        "plt.xticks(rotation = (10))\n",
        "plt.xlabel(\"Models\",fontsize=30)\n",
        "plt.ylabel(\"Accuracy(%)\",fontsize=30)\n",
        "plt.title(\"Performance of Models\")\n",
        "for a,b in zip(x,y):\n",
        "    b=model_accuracy[a]\n",
        "    val=\"(\"+str(round(model_accuracy[a],2))+\" %)\"\n",
        "    plt.text(a, b+4.5, val,horizontalalignment='center',verticalalignment='center',color='green',bbox=props)\n",
        "    plt.text(a, b+3.5, '.',horizontalalignment='center',verticalalignment='center',color='red',fontsize=50)\n",
        "plt.tight_layout()\n",
        "plt.savefig('Overall-Performance.jpg',dpi=600)\n",
        "plt.show();"
      ]
    },
    {
      "cell_type": "code",
      "execution_count": null,
      "metadata": {
        "id": "o6BMKKNeKwaS"
      },
      "outputs": [],
      "source": [
        "pickle.dump(ABR, open('abr.sav', 'wb'))\n",
        "pickle.dump(xg_reg, open('xg.sav', 'wb'))\n",
        "pickle.dump(RFR, open('rfr.sav', 'wb'))"
      ]
    },
    {
      "cell_type": "code",
      "execution_count": null,
      "metadata": {
        "id": "3bs9MWK8LGX5"
      },
      "outputs": [],
      "source": [
        "mymodel = pickle.load(open('xg.sav', 'rb'))"
      ]
    },
    {
      "cell_type": "code",
      "execution_count": null,
      "metadata": {
        "colab": {
          "base_uri": "https://localhost:8080/",
          "height": 81
        },
        "id": "mbIKs3vdLfgo",
        "outputId": "06921038-9085-4676-9200-a3c4e8445ab7"
      },
      "outputs": [
        {
          "data": {
            "text/html": [
              "\n",
              "  <div id=\"df-0fbdbe7d-8c8b-4edf-ad98-e61649660c10\">\n",
              "    <div class=\"colab-df-container\">\n",
              "      <div>\n",
              "<style scoped>\n",
              "    .dataframe tbody tr th:only-of-type {\n",
              "        vertical-align: middle;\n",
              "    }\n",
              "\n",
              "    .dataframe tbody tr th {\n",
              "        vertical-align: top;\n",
              "    }\n",
              "\n",
              "    .dataframe thead th {\n",
              "        text-align: right;\n",
              "    }\n",
              "</style>\n",
              "<table border=\"1\" class=\"dataframe\">\n",
              "  <thead>\n",
              "    <tr style=\"text-align: right;\">\n",
              "      <th></th>\n",
              "      <th>Brand_Name</th>\n",
              "      <th>Model</th>\n",
              "      <th>Place</th>\n",
              "      <th>ENGINETYPE</th>\n",
              "      <th>MANUFACTURE</th>\n",
              "      <th>MILAGECOVERED</th>\n",
              "      <th>INHAND</th>\n",
              "      <th>Auto/Man</th>\n",
              "      <th>MRP</th>\n",
              "    </tr>\n",
              "  </thead>\n",
              "  <tbody>\n",
              "    <tr>\n",
              "      <th>0</th>\n",
              "      <td>13</td>\n",
              "      <td>95</td>\n",
              "      <td>7</td>\n",
              "      <td>0</td>\n",
              "      <td>6</td>\n",
              "      <td>68316.0</td>\n",
              "      <td>0</td>\n",
              "      <td>1</td>\n",
              "      <td>522599.0</td>\n",
              "    </tr>\n",
              "  </tbody>\n",
              "</table>\n",
              "</div>\n",
              "      <button class=\"colab-df-convert\" onclick=\"convertToInteractive('df-0fbdbe7d-8c8b-4edf-ad98-e61649660c10')\"\n",
              "              title=\"Convert this dataframe to an interactive table.\"\n",
              "              style=\"display:none;\">\n",
              "        \n",
              "  <svg xmlns=\"http://www.w3.org/2000/svg\" height=\"24px\"viewBox=\"0 0 24 24\"\n",
              "       width=\"24px\">\n",
              "    <path d=\"M0 0h24v24H0V0z\" fill=\"none\"/>\n",
              "    <path d=\"M18.56 5.44l.94 2.06.94-2.06 2.06-.94-2.06-.94-.94-2.06-.94 2.06-2.06.94zm-11 1L8.5 8.5l.94-2.06 2.06-.94-2.06-.94L8.5 2.5l-.94 2.06-2.06.94zm10 10l.94 2.06.94-2.06 2.06-.94-2.06-.94-.94-2.06-.94 2.06-2.06.94z\"/><path d=\"M17.41 7.96l-1.37-1.37c-.4-.4-.92-.59-1.43-.59-.52 0-1.04.2-1.43.59L10.3 9.45l-7.72 7.72c-.78.78-.78 2.05 0 2.83L4 21.41c.39.39.9.59 1.41.59.51 0 1.02-.2 1.41-.59l7.78-7.78 2.81-2.81c.8-.78.8-2.07 0-2.86zM5.41 20L4 18.59l7.72-7.72 1.47 1.35L5.41 20z\"/>\n",
              "  </svg>\n",
              "      </button>\n",
              "      \n",
              "  <style>\n",
              "    .colab-df-container {\n",
              "      display:flex;\n",
              "      flex-wrap:wrap;\n",
              "      gap: 12px;\n",
              "    }\n",
              "\n",
              "    .colab-df-convert {\n",
              "      background-color: #E8F0FE;\n",
              "      border: none;\n",
              "      border-radius: 50%;\n",
              "      cursor: pointer;\n",
              "      display: none;\n",
              "      fill: #1967D2;\n",
              "      height: 32px;\n",
              "      padding: 0 0 0 0;\n",
              "      width: 32px;\n",
              "    }\n",
              "\n",
              "    .colab-df-convert:hover {\n",
              "      background-color: #E2EBFA;\n",
              "      box-shadow: 0px 1px 2px rgba(60, 64, 67, 0.3), 0px 1px 3px 1px rgba(60, 64, 67, 0.15);\n",
              "      fill: #174EA6;\n",
              "    }\n",
              "\n",
              "    [theme=dark] .colab-df-convert {\n",
              "      background-color: #3B4455;\n",
              "      fill: #D2E3FC;\n",
              "    }\n",
              "\n",
              "    [theme=dark] .colab-df-convert:hover {\n",
              "      background-color: #434B5C;\n",
              "      box-shadow: 0px 1px 3px 1px rgba(0, 0, 0, 0.15);\n",
              "      filter: drop-shadow(0px 1px 2px rgba(0, 0, 0, 0.3));\n",
              "      fill: #FFFFFF;\n",
              "    }\n",
              "  </style>\n",
              "\n",
              "      <script>\n",
              "        const buttonEl =\n",
              "          document.querySelector('#df-0fbdbe7d-8c8b-4edf-ad98-e61649660c10 button.colab-df-convert');\n",
              "        buttonEl.style.display =\n",
              "          google.colab.kernel.accessAllowed ? 'block' : 'none';\n",
              "\n",
              "        async function convertToInteractive(key) {\n",
              "          const element = document.querySelector('#df-0fbdbe7d-8c8b-4edf-ad98-e61649660c10');\n",
              "          const dataTable =\n",
              "            await google.colab.kernel.invokeFunction('convertToInteractive',\n",
              "                                                     [key], {});\n",
              "          if (!dataTable) return;\n",
              "\n",
              "          const docLinkHtml = 'Like what you see? Visit the ' +\n",
              "            '<a target=\"_blank\" href=https://colab.research.google.com/notebooks/data_table.ipynb>data table notebook</a>'\n",
              "            + ' to learn more about interactive tables.';\n",
              "          element.innerHTML = '';\n",
              "          dataTable['output_type'] = 'display_data';\n",
              "          await google.colab.output.renderOutput(dataTable, element);\n",
              "          const docLink = document.createElement('div');\n",
              "          docLink.innerHTML = docLinkHtml;\n",
              "          element.appendChild(docLink);\n",
              "        }\n",
              "      </script>\n",
              "    </div>\n",
              "  </div>\n",
              "  "
            ],
            "text/plain": [
              "   Brand_Name  Model  Place  ENGINETYPE  MANUFACTURE  MILAGECOVERED  INHAND  \\\n",
              "0          13     95      7           0            6        68316.0       0   \n",
              "\n",
              "   Auto/Man       MRP  \n",
              "0         1  522599.0  "
            ]
          },
          "execution_count": 27,
          "metadata": {},
          "output_type": "execute_result"
        }
      ],
      "source": [
        "df.head(1)"
      ]
    },
    {
      "cell_type": "code",
      "execution_count": null,
      "metadata": {
        "colab": {
          "base_uri": "https://localhost:8080/"
        },
        "id": "vBlbBN5kLdRp",
        "outputId": "0bd55223-af50-4640-89bb-46aa5504c503"
      },
      "outputs": [
        {
          "output_type": "execute_result",
          "data": {
            "text/plain": [
              "array([701419.06], dtype=float32)"
            ]
          },
          "metadata": {},
          "execution_count": 32
        }
      ],
      "source": [
        "mymodel.predict([[14, 10, 4, 1, 10, 40000, 1, 1]])"
      ]
    },
    {
      "cell_type": "code",
      "execution_count": null,
      "metadata": {
        "colab": {
          "base_uri": "https://localhost:8080/"
        },
        "id": "hwQJtXL-QrKA",
        "outputId": "338f09ea-a330-4ae0-bc65-4166d82e5a00"
      },
      "outputs": [
        {
          "name": "stdout",
          "output_type": "stream",
          "text": [
            "Requirement already satisfied: lightgbm in /usr/local/lib/python3.7/dist-packages (2.2.3)\n",
            "Requirement already satisfied: numpy in /usr/local/lib/python3.7/dist-packages (from lightgbm) (1.21.5)\n",
            "Requirement already satisfied: scikit-learn in /usr/local/lib/python3.7/dist-packages (from lightgbm) (1.0.2)\n",
            "Requirement already satisfied: scipy in /usr/local/lib/python3.7/dist-packages (from lightgbm) (1.4.1)\n",
            "Requirement already satisfied: threadpoolctl>=2.0.0 in /usr/local/lib/python3.7/dist-packages (from scikit-learn->lightgbm) (3.1.0)\n",
            "Requirement already satisfied: joblib>=0.11 in /usr/local/lib/python3.7/dist-packages (from scikit-learn->lightgbm) (1.1.0)\n"
          ]
        }
      ],
      "source": [
        "pip install lightgbm"
      ]
    },
    {
      "cell_type": "code",
      "execution_count": null,
      "metadata": {
        "id": "50nQrm4tQ0hm"
      },
      "outputs": [],
      "source": [
        "from sklearn.naive_bayes import GaussianNB\n",
        "from sklearn.preprocessing import StandardScaler\n",
        "sc = StandardScaler()\n",
        "X_train = sc.fit_transform(X_train)\n",
        "X_test = sc.transform(X_test)\n",
        "lgbm = GaussianNB()\n",
        "\n",
        "lgbm.fit(X_train, y_train)\n",
        "\n",
        "y_pred = lgbm.predict(X_test)\n",
        "#model evaluation\n",
        "r7_ab=result(y_test,y_pred)\n",
        "print(\"MSLE : {}\".format(r7_ab[0]))\n",
        "print(\"Root MSLE : {}\".format(r7_ab[1]))\n",
        "print(\"R2 Score : {} or {}%\".format(r7_ab[2],r7_ab[3]))\n",
        "accu['AdaBoost Regression']=r7_ab"
      ]
    },
    {
      "cell_type": "code",
      "execution_count": null,
      "metadata": {
        "id": "P7uyUUOv5pyb"
      },
      "outputs": [],
      "source": [
        ""
      ]
    }
  ],
  "metadata": {
    "colab": {
      "collapsed_sections": [],
      "name": "Car Resale Price Prediction.ipynb",
      "provenance": [],
      "mount_file_id": "1PFVPDWml7j_GgXQqmPlvk1c8x1oj8PcN",
      "authorship_tag": "ABX9TyO1tWgpVdzFuhnxVHLiZ05g",
      "include_colab_link": true
    },
    "kernelspec": {
      "display_name": "Python 3",
      "name": "python3"
    },
    "language_info": {
      "name": "python"
    }
  },
  "nbformat": 4,
  "nbformat_minor": 0
}