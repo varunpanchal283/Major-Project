{
  "cells": [
    {
      "cell_type": "markdown",
      "metadata": {
        "id": "view-in-github",
        "colab_type": "text"
      },
      "source": [
        "<a href=\"https://colab.research.google.com/github/varunpanchal283/Major-Project/blob/main/Car_Resale_Price_Prediction.ipynb\" target=\"_parent\"><img src=\"https://colab.research.google.com/assets/colab-badge.svg\" alt=\"Open In Colab\"/></a>"
      ]
    },
    {
      "cell_type": "markdown",
      "source": [
        "##INSTALLING AND LOADING NECESSARY MODULES##"
      ],
      "metadata": {
        "id": "dImPnYnRNVjp"
      }
    },
    {
      "cell_type": "code",
      "source": [
        "!pip uninstall xgboost\n",
        "!pip install xgboost"
      ],
      "metadata": {
        "colab": {
          "base_uri": "https://localhost:8080/",
          "height": 346
        },
        "id": "E6BMhM_eXaSK",
        "outputId": "bbaafa8f-5533-40c9-dfb5-c4f525f37206"
      },
      "execution_count": null,
      "outputs": [
        {
          "output_type": "stream",
          "name": "stdout",
          "text": [
            "Found existing installation: xgboost 1.6.1\n",
            "Uninstalling xgboost-1.6.1:\n",
            "  Would remove:\n",
            "    /usr/local/lib/python3.7/dist-packages/xgboost-1.6.1.dist-info/*\n",
            "    /usr/local/lib/python3.7/dist-packages/xgboost.libs/libgomp-a34b3233.so.1.0.0\n",
            "    /usr/local/lib/python3.7/dist-packages/xgboost/*\n",
            "Proceed (y/n)? y\n",
            "  Successfully uninstalled xgboost-1.6.1\n",
            "Collecting xgboost\n",
            "  Using cached xgboost-1.6.1-py3-none-manylinux2014_x86_64.whl (192.9 MB)\n",
            "Requirement already satisfied: numpy in /usr/local/lib/python3.7/dist-packages (from xgboost) (1.21.6)\n",
            "Requirement already satisfied: scipy in /usr/local/lib/python3.7/dist-packages (from xgboost) (1.4.1)\n",
            "Installing collected packages: xgboost\n",
            "Successfully installed xgboost-1.6.1\n"
          ]
        },
        {
          "output_type": "display_data",
          "data": {
            "application/vnd.colab-display-data+json": {
              "pip_warning": {
                "packages": [
                  "xgboost"
                ]
              }
            }
          },
          "metadata": {}
        }
      ]
    },
    {
      "cell_type": "code",
      "execution_count": null,
      "metadata": {
        "id": "q7UWgnjFDcku"
      },
      "outputs": [],
      "source": [
        "!pip install kora\n",
        "import pandas as pd\n",
        "import numpy as np\n",
        "import seaborn as sns\n",
        "import matplotlib.pyplot as plt\n",
        "%matplotlib inline\n",
        "from kora.selenium import wd\n",
        "from time import sleep\n",
        "from bs4 import BeautifulSoup as bs\n",
        "import numpy as np\n",
        "import pandas as pd\n",
        "import threading\n",
        "from sklearn.preprocessing import LabelEncoder\n",
        "import pandas as pd\n",
        "import numpy as np\n",
        "import time\n",
        "from tqdm import tqdm\n",
        "import matplotlib\n",
        "import matplotlib.pyplot as plt\n",
        "import pickle\n",
        "from sklearn import preprocessing\n",
        "from sklearn.preprocessing import StandardScaler\n",
        "from sklearn.preprocessing import MinMaxScaler\n",
        "from sklearn.metrics import mean_squared_log_error,r2_score,mean_squared_error\n",
        "from sklearn.model_selection import train_test_split\n",
        "from sklearn.linear_model import LinearRegression\n",
        "from sklearn.linear_model import Ridge\n",
        "from sklearn.linear_model import LassoCV,RidgeCV\n",
        "from yellowbrick.regressor import AlphaSelection\n",
        "from sklearn.linear_model import Lasso\n",
        "from sklearn.neighbors import KNeighborsRegressor\n",
        "from sklearn.ensemble import RandomForestRegressor\n",
        "from sklearn.ensemble import BaggingRegressor\n",
        "from sklearn.tree import DecisionTreeRegressor\n",
        "from sklearn.svm import SVR\n",
        "from sklearn.ensemble import AdaBoostRegressor\n",
        "import xgboost as xgb\n",
        "import warnings\n",
        "warnings.filterwarnings('ignore')"
      ]
    },
    {
      "cell_type": "markdown",
      "source": [
        "##DATA COLLECTION##"
      ],
      "metadata": {
        "id": "baOB-Kq0M5QJ"
      }
    },
    {
      "cell_type": "code",
      "execution_count": null,
      "metadata": {
        "id": "K-CFJPNPKR7y"
      },
      "outputs": [],
      "source": [
        "global carTitle,money,feature\n",
        "carTitle=[]\n",
        "money=[]\n",
        "feature=[]\n",
        "place=[]\n",
        "auto_manu=[]\n",
        "\n",
        "def pspk(url):\n",
        "  global carTitle,money,feature\n",
        "  wd.get(url)\n",
        "  SCROLL_PAUSE_TIME = 5\n",
        "  last_height = wd.execute_script(\"return document.body.scrollHeight\")\n",
        "  while True:\n",
        "      # Scroll down to bottom\n",
        "      wd.execute_script(\"window.scrollTo(0, document.body.scrollHeight);\")\n",
        "\n",
        "      # Wait to load page\n",
        "      sleep(SCROLL_PAUSE_TIME)\n",
        "      new_height = wd.execute_script(\"return document.body.scrollHeight\")\n",
        "      if new_height == last_height:\n",
        "          break\n",
        "      last_height = new_height\n",
        "\n",
        "  r=wd.page_source\n",
        "  soup=bs(r,'html.parser').find_all(\"div\",attrs={\"class\":'_1l4fi'})\n",
        "  place_h=bs(r,'html.parser').find('p',attrs={\"class\":\"_1V4-O\"})\n",
        "  for i in soup:\n",
        "    if i!=None:\n",
        "      sus=bs(str(i),\"html.parser\")\n",
        "      ss=sus.find(\"h2\")\n",
        "      if ss is None:\n",
        "        carTitle.append(np.Nan)\n",
        "      else:\n",
        "        carTitle.append(str(ss.text))\n",
        "      price = sus.find('div',attrs={'class' : '_7udZZ'})\n",
        "      if price is None:\n",
        "        money.append(np.NaN)\n",
        "      else:\n",
        "        money.append(str(price.text))\n",
        "      detail=sus.find('ul',attrs={'class':'bVR0c'})\n",
        "      if detail is None:\n",
        "        feature.append(np.NaN)\n",
        "      else:\n",
        "        feature.append(detail.text)\n",
        "      place.append(place_h.text)\n",
        "      am=sus.find('p',attrs={'class':'cvakB'})\n",
        "      if am is None:\n",
        "        auto_manu.append(np.NaN)\n",
        "      else:\n",
        "        if \"Manual\" in am.text:\n",
        "          auto_manu.append(\"Manual\")\n",
        "        elif \"Automatic\" in am.text:\n",
        "          auto_manu.append(\"Automatic\")\n",
        "        else:\n",
        "          auto_manu.append(np.NaN)\n",
        "urls=[\"https://www.cars24.com/buy-used-car?sort=P&storeCityId=2&pinId=110001\",\n",
        "      \"https://www.cars24.com/buy-used-car?sort=P&storeCityId=134&pinId=201301\",\n",
        "      \"https://www.cars24.com/buy-used-car?sort=P&storeCityId=5&pinId=122001\",\n",
        "      \"https://www.cars24.com/buy-used-car?sort=P&storeCityId=2378&pinId=400001\",\n",
        "      \"https://www.cars24.com/buy-used-car?sort=P&storeCityId=2423&pinId=411001\",\n",
        "      \"https://www.cars24.com/buy-used-car?sort=P&storeCityId=4709&pinId=560001\",\n",
        "      \"https://www.cars24.com/buy-used-car?sort=P&storeCityId=3686&pinId=500001\",\n",
        "      \"https://www.cars24.com/buy-used-car?sort=P&storeCityId=5732&pinId=600001\",\n",
        "      \"https://www.cars24.com/buy-used-car?sort=P&storeCityId=777&pinId=700001\",\n",
        "      \"https://www.cars24.com/buy-used-car?sort=P&storeCityId=1692&pinId=380001\"\n",
        "      ]\n",
        "for i in urls:\n",
        "  pspk(i)"
      ]
    },
    {
      "cell_type": "code",
      "source": [
        "df = pd.DataFrame({'PRODUCT' : carTitle,'DETAIL':feature ,'MRP':money,'Place':place,'Auto/Man':auto_manu})"
      ],
      "metadata": {
        "id": "tF2jGJc0u5uS"
      },
      "execution_count": null,
      "outputs": []
    },
    {
      "cell_type": "code",
      "source": [
        "df.head(5)"
      ],
      "metadata": {
        "colab": {
          "base_uri": "https://localhost:8080/",
          "height": 206
        },
        "id": "cuk7QhQC0zkP",
        "outputId": "ce0d629e-f99c-4bc1-acbf-17eb6032a1d2"
      },
      "execution_count": null,
      "outputs": [
        {
          "output_type": "execute_result",
          "data": {
            "text/plain": [
              "                PRODUCT                      DETAIL        MRP        Place  \\\n",
              "0     2012 Maruti Swift  1,09,227 km1st OwnerDiesel  ₹3,04,299  New Delhi     \n",
              "1     2015 Maruti Swift    46,049 km1st OwnerDiesel  ₹4,32,499  New Delhi     \n",
              "2  2018 Maruti Alto 800    41,533 km1st OwnerPetrol  ₹3,23,699  New Delhi     \n",
              "3       2017 Tata Tiago    18,338 km1st OwnerPetrol  ₹4,56,299  New Delhi     \n",
              "4     2013 Maruti Swift    46,222 km1st OwnerDiesel  ₹3,22,399  New Delhi     \n",
              "\n",
              "  Auto/Man  \n",
              "0   Manual  \n",
              "1   Manual  \n",
              "2   Manual  \n",
              "3   Manual  \n",
              "4   Manual  "
            ],
            "text/html": [
              "\n",
              "  <div id=\"df-b68b7311-b536-483c-982f-8a11d23676af\">\n",
              "    <div class=\"colab-df-container\">\n",
              "      <div>\n",
              "<style scoped>\n",
              "    .dataframe tbody tr th:only-of-type {\n",
              "        vertical-align: middle;\n",
              "    }\n",
              "\n",
              "    .dataframe tbody tr th {\n",
              "        vertical-align: top;\n",
              "    }\n",
              "\n",
              "    .dataframe thead th {\n",
              "        text-align: right;\n",
              "    }\n",
              "</style>\n",
              "<table border=\"1\" class=\"dataframe\">\n",
              "  <thead>\n",
              "    <tr style=\"text-align: right;\">\n",
              "      <th></th>\n",
              "      <th>PRODUCT</th>\n",
              "      <th>DETAIL</th>\n",
              "      <th>MRP</th>\n",
              "      <th>Place</th>\n",
              "      <th>Auto/Man</th>\n",
              "    </tr>\n",
              "  </thead>\n",
              "  <tbody>\n",
              "    <tr>\n",
              "      <th>0</th>\n",
              "      <td>2012 Maruti Swift</td>\n",
              "      <td>1,09,227 km1st OwnerDiesel</td>\n",
              "      <td>₹3,04,299</td>\n",
              "      <td>New Delhi</td>\n",
              "      <td>Manual</td>\n",
              "    </tr>\n",
              "    <tr>\n",
              "      <th>1</th>\n",
              "      <td>2015 Maruti Swift</td>\n",
              "      <td>46,049 km1st OwnerDiesel</td>\n",
              "      <td>₹4,32,499</td>\n",
              "      <td>New Delhi</td>\n",
              "      <td>Manual</td>\n",
              "    </tr>\n",
              "    <tr>\n",
              "      <th>2</th>\n",
              "      <td>2018 Maruti Alto 800</td>\n",
              "      <td>41,533 km1st OwnerPetrol</td>\n",
              "      <td>₹3,23,699</td>\n",
              "      <td>New Delhi</td>\n",
              "      <td>Manual</td>\n",
              "    </tr>\n",
              "    <tr>\n",
              "      <th>3</th>\n",
              "      <td>2017 Tata Tiago</td>\n",
              "      <td>18,338 km1st OwnerPetrol</td>\n",
              "      <td>₹4,56,299</td>\n",
              "      <td>New Delhi</td>\n",
              "      <td>Manual</td>\n",
              "    </tr>\n",
              "    <tr>\n",
              "      <th>4</th>\n",
              "      <td>2013 Maruti Swift</td>\n",
              "      <td>46,222 km1st OwnerDiesel</td>\n",
              "      <td>₹3,22,399</td>\n",
              "      <td>New Delhi</td>\n",
              "      <td>Manual</td>\n",
              "    </tr>\n",
              "  </tbody>\n",
              "</table>\n",
              "</div>\n",
              "      <button class=\"colab-df-convert\" onclick=\"convertToInteractive('df-b68b7311-b536-483c-982f-8a11d23676af')\"\n",
              "              title=\"Convert this dataframe to an interactive table.\"\n",
              "              style=\"display:none;\">\n",
              "        \n",
              "  <svg xmlns=\"http://www.w3.org/2000/svg\" height=\"24px\"viewBox=\"0 0 24 24\"\n",
              "       width=\"24px\">\n",
              "    <path d=\"M0 0h24v24H0V0z\" fill=\"none\"/>\n",
              "    <path d=\"M18.56 5.44l.94 2.06.94-2.06 2.06-.94-2.06-.94-.94-2.06-.94 2.06-2.06.94zm-11 1L8.5 8.5l.94-2.06 2.06-.94-2.06-.94L8.5 2.5l-.94 2.06-2.06.94zm10 10l.94 2.06.94-2.06 2.06-.94-2.06-.94-.94-2.06-.94 2.06-2.06.94z\"/><path d=\"M17.41 7.96l-1.37-1.37c-.4-.4-.92-.59-1.43-.59-.52 0-1.04.2-1.43.59L10.3 9.45l-7.72 7.72c-.78.78-.78 2.05 0 2.83L4 21.41c.39.39.9.59 1.41.59.51 0 1.02-.2 1.41-.59l7.78-7.78 2.81-2.81c.8-.78.8-2.07 0-2.86zM5.41 20L4 18.59l7.72-7.72 1.47 1.35L5.41 20z\"/>\n",
              "  </svg>\n",
              "      </button>\n",
              "      \n",
              "  <style>\n",
              "    .colab-df-container {\n",
              "      display:flex;\n",
              "      flex-wrap:wrap;\n",
              "      gap: 12px;\n",
              "    }\n",
              "\n",
              "    .colab-df-convert {\n",
              "      background-color: #E8F0FE;\n",
              "      border: none;\n",
              "      border-radius: 50%;\n",
              "      cursor: pointer;\n",
              "      display: none;\n",
              "      fill: #1967D2;\n",
              "      height: 32px;\n",
              "      padding: 0 0 0 0;\n",
              "      width: 32px;\n",
              "    }\n",
              "\n",
              "    .colab-df-convert:hover {\n",
              "      background-color: #E2EBFA;\n",
              "      box-shadow: 0px 1px 2px rgba(60, 64, 67, 0.3), 0px 1px 3px 1px rgba(60, 64, 67, 0.15);\n",
              "      fill: #174EA6;\n",
              "    }\n",
              "\n",
              "    [theme=dark] .colab-df-convert {\n",
              "      background-color: #3B4455;\n",
              "      fill: #D2E3FC;\n",
              "    }\n",
              "\n",
              "    [theme=dark] .colab-df-convert:hover {\n",
              "      background-color: #434B5C;\n",
              "      box-shadow: 0px 1px 3px 1px rgba(0, 0, 0, 0.15);\n",
              "      filter: drop-shadow(0px 1px 2px rgba(0, 0, 0, 0.3));\n",
              "      fill: #FFFFFF;\n",
              "    }\n",
              "  </style>\n",
              "\n",
              "      <script>\n",
              "        const buttonEl =\n",
              "          document.querySelector('#df-b68b7311-b536-483c-982f-8a11d23676af button.colab-df-convert');\n",
              "        buttonEl.style.display =\n",
              "          google.colab.kernel.accessAllowed ? 'block' : 'none';\n",
              "\n",
              "        async function convertToInteractive(key) {\n",
              "          const element = document.querySelector('#df-b68b7311-b536-483c-982f-8a11d23676af');\n",
              "          const dataTable =\n",
              "            await google.colab.kernel.invokeFunction('convertToInteractive',\n",
              "                                                     [key], {});\n",
              "          if (!dataTable) return;\n",
              "\n",
              "          const docLinkHtml = 'Like what you see? Visit the ' +\n",
              "            '<a target=\"_blank\" href=https://colab.research.google.com/notebooks/data_table.ipynb>data table notebook</a>'\n",
              "            + ' to learn more about interactive tables.';\n",
              "          element.innerHTML = '';\n",
              "          dataTable['output_type'] = 'display_data';\n",
              "          await google.colab.output.renderOutput(dataTable, element);\n",
              "          const docLink = document.createElement('div');\n",
              "          docLink.innerHTML = docLinkHtml;\n",
              "          element.appendChild(docLink);\n",
              "        }\n",
              "      </script>\n",
              "    </div>\n",
              "  </div>\n",
              "  "
            ]
          },
          "metadata": {},
          "execution_count": 43
        }
      ]
    },
    {
      "cell_type": "markdown",
      "source": [
        "##DATA CLEANING##"
      ],
      "metadata": {
        "id": "XUZMTVWpNCDY"
      }
    },
    {
      "cell_type": "code",
      "execution_count": null,
      "metadata": {
        "id": "JjRwH_Siw76W",
        "colab": {
          "base_uri": "https://localhost:8080/"
        },
        "outputId": "10998a12-5280-48d5-a0e8-a242c0e57712"
      },
      "outputs": [
        {
          "output_type": "execute_result",
          "data": {
            "text/plain": [
              "PRODUCT      0\n",
              "DETAIL       0\n",
              "MRP          0\n",
              "Place        0\n",
              "Auto/Man    47\n",
              "dtype: int64"
            ]
          },
          "metadata": {},
          "execution_count": 44
        }
      ],
      "source": [
        "df.isnull().sum()"
      ]
    },
    {
      "cell_type": "code",
      "execution_count": null,
      "metadata": {
        "id": "Hq3b2OIxw_WP"
      },
      "outputs": [],
      "source": [
        "df=df.dropna(axis=0)"
      ]
    },
    {
      "cell_type": "code",
      "source": [
        "df.drop_duplicates(subset=None, inplace=True)"
      ],
      "metadata": {
        "id": "SafNjrK25Cnm"
      },
      "execution_count": null,
      "outputs": []
    },
    {
      "cell_type": "code",
      "source": [
        "df.head(5)"
      ],
      "metadata": {
        "colab": {
          "base_uri": "https://localhost:8080/",
          "height": 206
        },
        "id": "9XUrVufzBYfk",
        "outputId": "f13d3d5c-4165-4e77-e5a5-489bc8bb514d"
      },
      "execution_count": null,
      "outputs": [
        {
          "output_type": "execute_result",
          "data": {
            "text/plain": [
              "                PRODUCT                      DETAIL        MRP        Place  \\\n",
              "0     2012 Maruti Swift  1,09,227 km1st OwnerDiesel  ₹3,04,299  New Delhi     \n",
              "1     2015 Maruti Swift    46,049 km1st OwnerDiesel  ₹4,32,499  New Delhi     \n",
              "2  2018 Maruti Alto 800    41,533 km1st OwnerPetrol  ₹3,23,699  New Delhi     \n",
              "3       2017 Tata Tiago    18,338 km1st OwnerPetrol  ₹4,56,299  New Delhi     \n",
              "4     2013 Maruti Swift    46,222 km1st OwnerDiesel  ₹3,22,399  New Delhi     \n",
              "\n",
              "  Auto/Man  \n",
              "0   Manual  \n",
              "1   Manual  \n",
              "2   Manual  \n",
              "3   Manual  \n",
              "4   Manual  "
            ],
            "text/html": [
              "\n",
              "  <div id=\"df-638c2008-ceb9-4f91-8ba0-6b3e3137cf1c\">\n",
              "    <div class=\"colab-df-container\">\n",
              "      <div>\n",
              "<style scoped>\n",
              "    .dataframe tbody tr th:only-of-type {\n",
              "        vertical-align: middle;\n",
              "    }\n",
              "\n",
              "    .dataframe tbody tr th {\n",
              "        vertical-align: top;\n",
              "    }\n",
              "\n",
              "    .dataframe thead th {\n",
              "        text-align: right;\n",
              "    }\n",
              "</style>\n",
              "<table border=\"1\" class=\"dataframe\">\n",
              "  <thead>\n",
              "    <tr style=\"text-align: right;\">\n",
              "      <th></th>\n",
              "      <th>PRODUCT</th>\n",
              "      <th>DETAIL</th>\n",
              "      <th>MRP</th>\n",
              "      <th>Place</th>\n",
              "      <th>Auto/Man</th>\n",
              "    </tr>\n",
              "  </thead>\n",
              "  <tbody>\n",
              "    <tr>\n",
              "      <th>0</th>\n",
              "      <td>2012 Maruti Swift</td>\n",
              "      <td>1,09,227 km1st OwnerDiesel</td>\n",
              "      <td>₹3,04,299</td>\n",
              "      <td>New Delhi</td>\n",
              "      <td>Manual</td>\n",
              "    </tr>\n",
              "    <tr>\n",
              "      <th>1</th>\n",
              "      <td>2015 Maruti Swift</td>\n",
              "      <td>46,049 km1st OwnerDiesel</td>\n",
              "      <td>₹4,32,499</td>\n",
              "      <td>New Delhi</td>\n",
              "      <td>Manual</td>\n",
              "    </tr>\n",
              "    <tr>\n",
              "      <th>2</th>\n",
              "      <td>2018 Maruti Alto 800</td>\n",
              "      <td>41,533 km1st OwnerPetrol</td>\n",
              "      <td>₹3,23,699</td>\n",
              "      <td>New Delhi</td>\n",
              "      <td>Manual</td>\n",
              "    </tr>\n",
              "    <tr>\n",
              "      <th>3</th>\n",
              "      <td>2017 Tata Tiago</td>\n",
              "      <td>18,338 km1st OwnerPetrol</td>\n",
              "      <td>₹4,56,299</td>\n",
              "      <td>New Delhi</td>\n",
              "      <td>Manual</td>\n",
              "    </tr>\n",
              "    <tr>\n",
              "      <th>4</th>\n",
              "      <td>2013 Maruti Swift</td>\n",
              "      <td>46,222 km1st OwnerDiesel</td>\n",
              "      <td>₹3,22,399</td>\n",
              "      <td>New Delhi</td>\n",
              "      <td>Manual</td>\n",
              "    </tr>\n",
              "  </tbody>\n",
              "</table>\n",
              "</div>\n",
              "      <button class=\"colab-df-convert\" onclick=\"convertToInteractive('df-638c2008-ceb9-4f91-8ba0-6b3e3137cf1c')\"\n",
              "              title=\"Convert this dataframe to an interactive table.\"\n",
              "              style=\"display:none;\">\n",
              "        \n",
              "  <svg xmlns=\"http://www.w3.org/2000/svg\" height=\"24px\"viewBox=\"0 0 24 24\"\n",
              "       width=\"24px\">\n",
              "    <path d=\"M0 0h24v24H0V0z\" fill=\"none\"/>\n",
              "    <path d=\"M18.56 5.44l.94 2.06.94-2.06 2.06-.94-2.06-.94-.94-2.06-.94 2.06-2.06.94zm-11 1L8.5 8.5l.94-2.06 2.06-.94-2.06-.94L8.5 2.5l-.94 2.06-2.06.94zm10 10l.94 2.06.94-2.06 2.06-.94-2.06-.94-.94-2.06-.94 2.06-2.06.94z\"/><path d=\"M17.41 7.96l-1.37-1.37c-.4-.4-.92-.59-1.43-.59-.52 0-1.04.2-1.43.59L10.3 9.45l-7.72 7.72c-.78.78-.78 2.05 0 2.83L4 21.41c.39.39.9.59 1.41.59.51 0 1.02-.2 1.41-.59l7.78-7.78 2.81-2.81c.8-.78.8-2.07 0-2.86zM5.41 20L4 18.59l7.72-7.72 1.47 1.35L5.41 20z\"/>\n",
              "  </svg>\n",
              "      </button>\n",
              "      \n",
              "  <style>\n",
              "    .colab-df-container {\n",
              "      display:flex;\n",
              "      flex-wrap:wrap;\n",
              "      gap: 12px;\n",
              "    }\n",
              "\n",
              "    .colab-df-convert {\n",
              "      background-color: #E8F0FE;\n",
              "      border: none;\n",
              "      border-radius: 50%;\n",
              "      cursor: pointer;\n",
              "      display: none;\n",
              "      fill: #1967D2;\n",
              "      height: 32px;\n",
              "      padding: 0 0 0 0;\n",
              "      width: 32px;\n",
              "    }\n",
              "\n",
              "    .colab-df-convert:hover {\n",
              "      background-color: #E2EBFA;\n",
              "      box-shadow: 0px 1px 2px rgba(60, 64, 67, 0.3), 0px 1px 3px 1px rgba(60, 64, 67, 0.15);\n",
              "      fill: #174EA6;\n",
              "    }\n",
              "\n",
              "    [theme=dark] .colab-df-convert {\n",
              "      background-color: #3B4455;\n",
              "      fill: #D2E3FC;\n",
              "    }\n",
              "\n",
              "    [theme=dark] .colab-df-convert:hover {\n",
              "      background-color: #434B5C;\n",
              "      box-shadow: 0px 1px 3px 1px rgba(0, 0, 0, 0.15);\n",
              "      filter: drop-shadow(0px 1px 2px rgba(0, 0, 0, 0.3));\n",
              "      fill: #FFFFFF;\n",
              "    }\n",
              "  </style>\n",
              "\n",
              "      <script>\n",
              "        const buttonEl =\n",
              "          document.querySelector('#df-638c2008-ceb9-4f91-8ba0-6b3e3137cf1c button.colab-df-convert');\n",
              "        buttonEl.style.display =\n",
              "          google.colab.kernel.accessAllowed ? 'block' : 'none';\n",
              "\n",
              "        async function convertToInteractive(key) {\n",
              "          const element = document.querySelector('#df-638c2008-ceb9-4f91-8ba0-6b3e3137cf1c');\n",
              "          const dataTable =\n",
              "            await google.colab.kernel.invokeFunction('convertToInteractive',\n",
              "                                                     [key], {});\n",
              "          if (!dataTable) return;\n",
              "\n",
              "          const docLinkHtml = 'Like what you see? Visit the ' +\n",
              "            '<a target=\"_blank\" href=https://colab.research.google.com/notebooks/data_table.ipynb>data table notebook</a>'\n",
              "            + ' to learn more about interactive tables.';\n",
              "          element.innerHTML = '';\n",
              "          dataTable['output_type'] = 'display_data';\n",
              "          await google.colab.output.renderOutput(dataTable, element);\n",
              "          const docLink = document.createElement('div');\n",
              "          docLink.innerHTML = docLinkHtml;\n",
              "          element.appendChild(docLink);\n",
              "        }\n",
              "      </script>\n",
              "    </div>\n",
              "  </div>\n",
              "  "
            ]
          },
          "metadata": {},
          "execution_count": 47
        }
      ]
    },
    {
      "cell_type": "code",
      "execution_count": null,
      "metadata": {
        "id": "7I9BnVEkeb68"
      },
      "outputs": [],
      "source": [
        "import regex as re\n",
        "regex = '.*km'\n",
        "df['MILAGECOVERED'] = df['DETAIL'].apply(lambda x : re.findall(regex, x) if(re.findall(regex, x)!=[]) else [\"0\"])\n",
        "regex = '[\\d]+[a-z]+[a-z]+[\\s]+Owner'\n",
        "df['INHAND'] = df['DETAIL'].apply(lambda x : re.findall(regex, x))\n",
        "regex = 'Petrol|Diesel|Petrol+CNG}{1,1}'\n",
        "df['ENGINETYPE'] = df['DETAIL'].apply(lambda x : re.findall(regex, x))\n",
        "regex = '[1-90]{4}'\n",
        "df['MANUFACTURE'] = df['PRODUCT'].apply(lambda x : re.findall(regex, x))\n",
        "regex = '[^1-90]+[\\d\\w]'\n",
        "df['NAME'] = df['PRODUCT'].apply(lambda x : x[5:])\n",
        "df.NAME= df.NAME.apply(lambda x : ''.join(x))\n",
        "df.ENGINETYPE= df.ENGINETYPE.apply(lambda x : ''.join(x))\n",
        "df.MANUFACTURE= df.MANUFACTURE.apply(lambda x : ''.join(x))\n",
        "df.MILAGECOVERED= df.MILAGECOVERED.apply(lambda x : ''.join(x))\n",
        "df.INHAND= df.INHAND.apply(lambda x : ''.join(x))\n",
        "df.MRP = df.MRP.apply(lambda x : x.replace('₹', '').replace(',', '')).astype(float)\n",
        "df.MANUFACTURE = df.MANUFACTURE.apply(lambda x : x.replace('₹', '').replace(',', '')).astype(int)\n",
        "df.MILAGECOVERED = df.MILAGECOVERED.apply(lambda i : i.replace('km', '').replace(' ', '').replace('\\n','').replace(',','')).astype(float)\n",
        "df['Brand_Name'] = df['NAME'].str.split(' ').str[0]\n",
        "df[\"Model\"]=df['NAME'].str.split(' ').str[1:]\n",
        "df.Model= df.Model.apply(lambda x : ' '.join(x))\n",
        "df=df.drop([\"NAME\"],axis='columns')\n"
      ]
    },
    {
      "cell_type": "code",
      "execution_count": null,
      "metadata": {
        "id": "JJJHH1JTEWqV"
      },
      "outputs": [],
      "source": [
        "df=df[['Brand_Name','Model','Place','ENGINETYPE','MANUFACTURE','MILAGECOVERED','INHAND','Auto/Man','MRP']]"
      ]
    },
    {
      "cell_type": "code",
      "execution_count": null,
      "metadata": {
        "id": "zYejEHem0sQT",
        "colab": {
          "base_uri": "https://localhost:8080/",
          "height": 206
        },
        "outputId": "80cc90d9-0e0a-48fa-9b00-b739e7104671"
      },
      "outputs": [
        {
          "output_type": "execute_result",
          "data": {
            "text/plain": [
              "  Brand_Name     Model        Place ENGINETYPE  MANUFACTURE  MILAGECOVERED  \\\n",
              "0     Maruti     Swift  New Delhi       Diesel         2012       109227.0   \n",
              "1     Maruti     Swift  New Delhi       Diesel         2015        46049.0   \n",
              "2     Maruti  Alto 800  New Delhi       Petrol         2018        41533.0   \n",
              "3       Tata     Tiago  New Delhi       Petrol         2017        18338.0   \n",
              "4     Maruti     Swift  New Delhi       Diesel         2013        46222.0   \n",
              "\n",
              "      INHAND Auto/Man       MRP  \n",
              "0  1st Owner   Manual  304299.0  \n",
              "1  1st Owner   Manual  432499.0  \n",
              "2  1st Owner   Manual  323699.0  \n",
              "3  1st Owner   Manual  456299.0  \n",
              "4  1st Owner   Manual  322399.0  "
            ],
            "text/html": [
              "\n",
              "  <div id=\"df-be0132f4-a1e0-4ca1-a440-3687629f30d3\">\n",
              "    <div class=\"colab-df-container\">\n",
              "      <div>\n",
              "<style scoped>\n",
              "    .dataframe tbody tr th:only-of-type {\n",
              "        vertical-align: middle;\n",
              "    }\n",
              "\n",
              "    .dataframe tbody tr th {\n",
              "        vertical-align: top;\n",
              "    }\n",
              "\n",
              "    .dataframe thead th {\n",
              "        text-align: right;\n",
              "    }\n",
              "</style>\n",
              "<table border=\"1\" class=\"dataframe\">\n",
              "  <thead>\n",
              "    <tr style=\"text-align: right;\">\n",
              "      <th></th>\n",
              "      <th>Brand_Name</th>\n",
              "      <th>Model</th>\n",
              "      <th>Place</th>\n",
              "      <th>ENGINETYPE</th>\n",
              "      <th>MANUFACTURE</th>\n",
              "      <th>MILAGECOVERED</th>\n",
              "      <th>INHAND</th>\n",
              "      <th>Auto/Man</th>\n",
              "      <th>MRP</th>\n",
              "    </tr>\n",
              "  </thead>\n",
              "  <tbody>\n",
              "    <tr>\n",
              "      <th>0</th>\n",
              "      <td>Maruti</td>\n",
              "      <td>Swift</td>\n",
              "      <td>New Delhi</td>\n",
              "      <td>Diesel</td>\n",
              "      <td>2012</td>\n",
              "      <td>109227.0</td>\n",
              "      <td>1st Owner</td>\n",
              "      <td>Manual</td>\n",
              "      <td>304299.0</td>\n",
              "    </tr>\n",
              "    <tr>\n",
              "      <th>1</th>\n",
              "      <td>Maruti</td>\n",
              "      <td>Swift</td>\n",
              "      <td>New Delhi</td>\n",
              "      <td>Diesel</td>\n",
              "      <td>2015</td>\n",
              "      <td>46049.0</td>\n",
              "      <td>1st Owner</td>\n",
              "      <td>Manual</td>\n",
              "      <td>432499.0</td>\n",
              "    </tr>\n",
              "    <tr>\n",
              "      <th>2</th>\n",
              "      <td>Maruti</td>\n",
              "      <td>Alto 800</td>\n",
              "      <td>New Delhi</td>\n",
              "      <td>Petrol</td>\n",
              "      <td>2018</td>\n",
              "      <td>41533.0</td>\n",
              "      <td>1st Owner</td>\n",
              "      <td>Manual</td>\n",
              "      <td>323699.0</td>\n",
              "    </tr>\n",
              "    <tr>\n",
              "      <th>3</th>\n",
              "      <td>Tata</td>\n",
              "      <td>Tiago</td>\n",
              "      <td>New Delhi</td>\n",
              "      <td>Petrol</td>\n",
              "      <td>2017</td>\n",
              "      <td>18338.0</td>\n",
              "      <td>1st Owner</td>\n",
              "      <td>Manual</td>\n",
              "      <td>456299.0</td>\n",
              "    </tr>\n",
              "    <tr>\n",
              "      <th>4</th>\n",
              "      <td>Maruti</td>\n",
              "      <td>Swift</td>\n",
              "      <td>New Delhi</td>\n",
              "      <td>Diesel</td>\n",
              "      <td>2013</td>\n",
              "      <td>46222.0</td>\n",
              "      <td>1st Owner</td>\n",
              "      <td>Manual</td>\n",
              "      <td>322399.0</td>\n",
              "    </tr>\n",
              "  </tbody>\n",
              "</table>\n",
              "</div>\n",
              "      <button class=\"colab-df-convert\" onclick=\"convertToInteractive('df-be0132f4-a1e0-4ca1-a440-3687629f30d3')\"\n",
              "              title=\"Convert this dataframe to an interactive table.\"\n",
              "              style=\"display:none;\">\n",
              "        \n",
              "  <svg xmlns=\"http://www.w3.org/2000/svg\" height=\"24px\"viewBox=\"0 0 24 24\"\n",
              "       width=\"24px\">\n",
              "    <path d=\"M0 0h24v24H0V0z\" fill=\"none\"/>\n",
              "    <path d=\"M18.56 5.44l.94 2.06.94-2.06 2.06-.94-2.06-.94-.94-2.06-.94 2.06-2.06.94zm-11 1L8.5 8.5l.94-2.06 2.06-.94-2.06-.94L8.5 2.5l-.94 2.06-2.06.94zm10 10l.94 2.06.94-2.06 2.06-.94-2.06-.94-.94-2.06-.94 2.06-2.06.94z\"/><path d=\"M17.41 7.96l-1.37-1.37c-.4-.4-.92-.59-1.43-.59-.52 0-1.04.2-1.43.59L10.3 9.45l-7.72 7.72c-.78.78-.78 2.05 0 2.83L4 21.41c.39.39.9.59 1.41.59.51 0 1.02-.2 1.41-.59l7.78-7.78 2.81-2.81c.8-.78.8-2.07 0-2.86zM5.41 20L4 18.59l7.72-7.72 1.47 1.35L5.41 20z\"/>\n",
              "  </svg>\n",
              "      </button>\n",
              "      \n",
              "  <style>\n",
              "    .colab-df-container {\n",
              "      display:flex;\n",
              "      flex-wrap:wrap;\n",
              "      gap: 12px;\n",
              "    }\n",
              "\n",
              "    .colab-df-convert {\n",
              "      background-color: #E8F0FE;\n",
              "      border: none;\n",
              "      border-radius: 50%;\n",
              "      cursor: pointer;\n",
              "      display: none;\n",
              "      fill: #1967D2;\n",
              "      height: 32px;\n",
              "      padding: 0 0 0 0;\n",
              "      width: 32px;\n",
              "    }\n",
              "\n",
              "    .colab-df-convert:hover {\n",
              "      background-color: #E2EBFA;\n",
              "      box-shadow: 0px 1px 2px rgba(60, 64, 67, 0.3), 0px 1px 3px 1px rgba(60, 64, 67, 0.15);\n",
              "      fill: #174EA6;\n",
              "    }\n",
              "\n",
              "    [theme=dark] .colab-df-convert {\n",
              "      background-color: #3B4455;\n",
              "      fill: #D2E3FC;\n",
              "    }\n",
              "\n",
              "    [theme=dark] .colab-df-convert:hover {\n",
              "      background-color: #434B5C;\n",
              "      box-shadow: 0px 1px 3px 1px rgba(0, 0, 0, 0.15);\n",
              "      filter: drop-shadow(0px 1px 2px rgba(0, 0, 0, 0.3));\n",
              "      fill: #FFFFFF;\n",
              "    }\n",
              "  </style>\n",
              "\n",
              "      <script>\n",
              "        const buttonEl =\n",
              "          document.querySelector('#df-be0132f4-a1e0-4ca1-a440-3687629f30d3 button.colab-df-convert');\n",
              "        buttonEl.style.display =\n",
              "          google.colab.kernel.accessAllowed ? 'block' : 'none';\n",
              "\n",
              "        async function convertToInteractive(key) {\n",
              "          const element = document.querySelector('#df-be0132f4-a1e0-4ca1-a440-3687629f30d3');\n",
              "          const dataTable =\n",
              "            await google.colab.kernel.invokeFunction('convertToInteractive',\n",
              "                                                     [key], {});\n",
              "          if (!dataTable) return;\n",
              "\n",
              "          const docLinkHtml = 'Like what you see? Visit the ' +\n",
              "            '<a target=\"_blank\" href=https://colab.research.google.com/notebooks/data_table.ipynb>data table notebook</a>'\n",
              "            + ' to learn more about interactive tables.';\n",
              "          element.innerHTML = '';\n",
              "          dataTable['output_type'] = 'display_data';\n",
              "          await google.colab.output.renderOutput(dataTable, element);\n",
              "          const docLink = document.createElement('div');\n",
              "          docLink.innerHTML = docLinkHtml;\n",
              "          element.appendChild(docLink);\n",
              "        }\n",
              "      </script>\n",
              "    </div>\n",
              "  </div>\n",
              "  "
            ]
          },
          "metadata": {},
          "execution_count": 50
        }
      ],
      "source": [
        "df.head(5)"
      ]
    },
    {
      "cell_type": "markdown",
      "source": [
        "##DATA TRANSFORMATION##"
      ],
      "metadata": {
        "id": "6Ox2MLpZNKNz"
      }
    },
    {
      "cell_type": "code",
      "execution_count": null,
      "metadata": {
        "id": "hpwx-vmX63Qy"
      },
      "outputs": [],
      "source": [
        "le_ENGINETYPE=LabelEncoder()\n",
        "le_Brand_Name=LabelEncoder()\n",
        "le_Model=LabelEncoder()\n",
        "le_INHAND=LabelEncoder()\n",
        "le_Place=LabelEncoder()\n",
        "le_Automan=LabelEncoder()\n",
        "le_Year=LabelEncoder()\n",
        "df['ENGINETYPE']= le_ENGINETYPE.fit_transform(df['ENGINETYPE'])\n",
        "df['Brand_Name']=le_Brand_Name.fit_transform(df['Brand_Name'])\n",
        "df['Model']=le_Model.fit_transform(df['Model'])\n",
        "df['INHAND']=le_INHAND.fit_transform(df['INHAND'])\n",
        "df['Place']=le_Place.fit_transform(df['Place'])\n",
        "df['Auto/Man']=le_Automan.fit_transform(df['Auto/Man'])\n",
        "df['MANUFACTURE']=le_Year.fit_transform(df['MANUFACTURE'])"
      ]
    },
    {
      "cell_type": "code",
      "execution_count": null,
      "metadata": {
        "id": "GwVTSVibqn3v"
      },
      "outputs": [],
      "source": [
        "pip install configparser"
      ]
    },
    {
      "cell_type": "code",
      "execution_count": null,
      "metadata": {
        "id": "x9vi3MlrDsOd"
      },
      "outputs": [],
      "source": [
        "import configparser\n",
        "config = configparser.ConfigParser()\n",
        "x={}\n",
        "k=0\n",
        "for i in le_ENGINETYPE.classes_:\n",
        "  x[i]=k\n",
        "  k+=1\n",
        "config[\"Engine Type\"]=x\n",
        "#print(le_ENGINETYPE.classes_)\n",
        "print(x)\n",
        "x={}\n",
        "k=0\n",
        "for i in le_Brand_Name.classes_:\n",
        "  x[i]=k\n",
        "  k+=1\n",
        "config[\"Brand\"]=x\n",
        "#print(le_Brand_Name.classes_)\n",
        "print(x)\n",
        "x={}\n",
        "k=0\n",
        "for i in le_Model.classes_:\n",
        "  x[i]=k\n",
        "  k+=1\n",
        "config[\"Model\"]=x\n",
        "#print(le_Model.classes_)\n",
        "print(x)\n",
        "x={}\n",
        "k=0\n",
        "for i in le_INHAND.classes_:\n",
        "  x[i]=k\n",
        "  k+=1\n",
        "config[\"Inhand\"]=x\n",
        "#print(le_INHAND.classes_ )\n",
        "print(x)\n",
        "x={}\n",
        "k=0\n",
        "for i in le_Place.classes_:\n",
        "  x[i]=k\n",
        "  k+=1\n",
        "config[\"Place\"]=x\n",
        "#print(le_Place.classes_)\n",
        "print(x)\n",
        "x={}\n",
        "k=0\n",
        "for i in le_Automan.classes_:\n",
        "  x[i]=k\n",
        "  k+=1\n",
        "config[\"Automan\"]=x\n",
        "print(x)\n",
        "x={}\n",
        "k=0\n",
        "for i in le_Year.classes_:\n",
        "  x[i]=k\n",
        "  k+=1\n",
        "config[\"Year\"]=x\n",
        "print(x)\n",
        "with open('example.ini', 'w') as configfile:\n",
        "  config.write(configfile)\n",
        "\n"
      ]
    },
    {
      "cell_type": "code",
      "execution_count": null,
      "metadata": {
        "id": "nxj6KMJyG47A"
      },
      "outputs": [],
      "source": [
        "df.to_csv(\"cars24.csv\")"
      ]
    },
    {
      "cell_type": "code",
      "source": [
        "df=pd.read_csv(\"/content/drive/MyDrive/cars24_new.csv\")"
      ],
      "metadata": {
        "id": "Af9b7RQxdr_2"
      },
      "execution_count": null,
      "outputs": []
    },
    {
      "cell_type": "markdown",
      "source": [
        "##TRAINING & TESTING##"
      ],
      "metadata": {
        "id": "iTGm-lqENO6_"
      }
    },
    {
      "cell_type": "code",
      "execution_count": null,
      "metadata": {
        "id": "8ZDsiFB3G-5N"
      },
      "outputs": [],
      "source": [
        "def trainingData(df,n):\n",
        "    X = df.iloc[:,n]\n",
        "    y = df.iloc[:,-1:].values.T\n",
        "    y=y[0]\n",
        "    X_train,X_test,y_train,y_test=train_test_split(X,y,train_size=0.8,test_size=0.2,random_state=0)\n",
        "    return (X_train,X_test,y_train,y_test)\n",
        "\n",
        "X_train,X_test,y_train,y_test=trainingData(df,list(range(len(list(df.columns))-1)))\n",
        "def remove_neg(y_test,y_pred):\n",
        "    ind=[index for index in range(len(y_pred)) if(y_pred[index]>0)]\n",
        "    y_pred=y_pred[ind]\n",
        "    y_test=y_test[ind]\n",
        "    y_pred[y_pred<0]\n",
        "    return (y_test,y_pred)\n",
        "\n",
        "#function for evaluation of model\n",
        "def result(y_test,y_pred):\n",
        "    r=[]\n",
        "    r.append(mean_squared_log_error(y_test, y_pred))\n",
        "    r.append(np.sqrt(r[0]))\n",
        "    r.append(r2_score(y_test,y_pred))\n",
        "    r.append(round(r2_score(y_test,y_pred)*100,4))\n",
        "    return (r)\n",
        "\n",
        "#dataframe that store the performance of each model\n",
        "accu=pd.DataFrame(index=['MSLE', 'Root MSLE', 'R2 Score','Accuracy(%)'])"
      ]
    },
    {
      "cell_type": "code",
      "execution_count": null,
      "metadata": {
        "id": "aQtb5OM-Is5B"
      },
      "outputs": [],
      "source": [
        "RFR = RandomForestRegressor(n_estimators=180,random_state=0, min_samples_leaf=1, max_features=0.5, n_jobs=-1, oob_score=True)\n",
        "RFR.fit(X_train,y_train)\n",
        "y_pred = RFR.predict(X_test)\n",
        "r5_rf=result(y_test,y_pred)\n",
        "print(\"MSLE : {}\".format(r5_rf[0]))\n",
        "print(\"Root MSLE : {}\".format(r5_rf[1]))\n",
        "print(\"R2 Score : {} or {}%\".format(r5_rf[2],r5_rf[3]))\n",
        "accu['RandomForest Regressor']=r5_rf"
      ]
    },
    {
      "cell_type": "code",
      "execution_count": null,
      "metadata": {
        "id": "EP2jX2GeI6lS"
      },
      "outputs": [],
      "source": [
        "ABR = AdaBoostRegressor(\n",
        "    DecisionTreeRegressor(max_depth=24),\n",
        "    n_estimators=200,learning_rate=0.6\n",
        ")\n",
        "\n",
        "ABR.fit(X_train, y_train)\n",
        "y_pred = ABR.predict(X_test)\n",
        "#model evaluation\n",
        "r7_ab=result(y_test,y_pred)\n",
        "print(\"MSLE : {}\".format(r7_ab[0]))\n",
        "print(\"Root MSLE : {}\".format(r7_ab[1]))\n",
        "print(\"R2 Score : {} or {}%\".format(r7_ab[2],r7_ab[3]))\n",
        "accu['AdaBoost Regression']=r7_ab"
      ]
    },
    {
      "cell_type": "code",
      "execution_count": null,
      "metadata": {
        "id": "ilQ7ioSWJNIF"
      },
      "outputs": [],
      "source": [
        "xg_reg = xgb.XGBRegressor(objective ='reg:squarederror', learning_rate = 0.4,\n",
        "                max_depth = 24, alpha = 5, n_estimators = 200)\n",
        "X_test = X_test.to_numpy()\n",
        "X_train = X_train.to_numpy()\n",
        "xg_reg.fit(X_train,y_train)\n",
        "y_pred = xg_reg.predict(X_test)\n",
        "#model evaluation\n",
        "y_test_1,y_pred_1=remove_neg(y_test,y_pred)\n",
        "r8_xg=result(y_test_1,y_pred_1)\n",
        "print(\"MSLE : {}\".format(r8_xg[0]))\n",
        "print(\"Root MSLE : {}\".format(r8_xg[1]))\n",
        "print(\"R2 Score : {} or {}%\".format(r8_xg[2],r8_xg[3]))\n",
        "accu['XGBoost Regressor']=r8_xg"
      ]
    },
    {
      "cell_type": "code",
      "source": [
        "!pip uninstall xgboost\n",
        "!pip install xgboost"
      ],
      "metadata": {
        "id": "KVXWkZj8W0uH"
      },
      "execution_count": null,
      "outputs": []
    },
    {
      "cell_type": "code",
      "source": [
        "pickle.dump(ABR, open('abr.sav', 'wb'))\n",
        "pickle.dump(xg_reg, open('xg.sav', 'wb'))\n",
        "pickle.dump(RFR, open('rfr.sav', 'wb'))"
      ],
      "metadata": {
        "id": "xLQ_lO3Oh4W5"
      },
      "execution_count": null,
      "outputs": []
    },
    {
      "cell_type": "code",
      "execution_count": null,
      "metadata": {
        "id": "-ze6yzuaJmiG"
      },
      "outputs": [],
      "source": [
        "accu"
      ]
    },
    {
      "cell_type": "code",
      "execution_count": null,
      "metadata": {
        "id": "y-qzOC6ez3wj"
      },
      "outputs": [],
      "source": [
        "model_accuracy=accu.loc['Accuracy(%)']\n",
        "x=list(range(len(model_accuracy)))\n",
        "y=list(range(0,101,10))\n",
        "props = dict(boxstyle='round', facecolor='white', alpha=0.8)\n",
        "plt.figure(figsize=(20,6))\n",
        "plt.plot(model_accuracy)\n",
        "plt.yticks(y)\n",
        "plt.xticks(fontsize=20)\n",
        "plt.xticks(rotation = (10))\n",
        "plt.xlabel(\"Models\",fontsize=30)\n",
        "plt.ylabel(\"Accuracy(%)\",fontsize=30)\n",
        "plt.title(\"Performance of Models\")\n",
        "for a,b in zip(x,y):\n",
        "    b=model_accuracy[a]\n",
        "    val=\"(\"+str(round(model_accuracy[a],2))+\" %)\"\n",
        "    plt.text(a, b+4.5, val,horizontalalignment='center',verticalalignment='center',color='green',bbox=props)\n",
        "    plt.text(a, b+3.5, '.',horizontalalignment='center',verticalalignment='center',color='red',fontsize=50)\n",
        "plt.tight_layout()\n",
        "plt.savefig('Overall-Performance.jpg',dpi=600)\n",
        "plt.show();"
      ]
    },
    {
      "cell_type": "code",
      "source": [
        "from sklearn.neighbors import KNeighborsClassifier\n",
        "knn = KNeighborsClassifier()\n",
        "knn.fit(X_train, y_train)\n",
        "y_pred = knn.predict(X_test)\n",
        "r5_rf=result(y_test,y_pred)\n",
        "r5_rf"
      ],
      "metadata": {
        "colab": {
          "base_uri": "https://localhost:8080/"
        },
        "id": "DGV_YX9MNgkd",
        "outputId": "a87ac62c-e1cc-45be-b814-24b7cba5612b"
      },
      "execution_count": null,
      "outputs": [
        {
          "output_type": "execute_result",
          "data": {
            "text/plain": [
              "[0.33295536006526105, 0.5770228418921222, -0.47493558800034186, -47.4936]"
            ]
          },
          "metadata": {},
          "execution_count": 38
        }
      ]
    },
    {
      "cell_type": "code",
      "source": [
        "from sklearn.linear_model import LogisticRegression\n",
        "reg = LogisticRegression()\n",
        "reg.fit(X_train, y_train)\n",
        "y_pred = reg.predict(X_test)\n",
        "r5_rf=result(y_test,y_pred)\n",
        "r5_rf"
      ],
      "metadata": {
        "colab": {
          "base_uri": "https://localhost:8080/"
        },
        "id": "lk1R6eJMN1Lr",
        "outputId": "2123e8a9-56a5-4e3b-8318-c0b40e981e41"
      },
      "execution_count": null,
      "outputs": [
        {
          "output_type": "execute_result",
          "data": {
            "text/plain": [
              "[0.25580921161145564, 0.5057758511548922, -0.311784985048857, -31.1785]"
            ]
          },
          "metadata": {},
          "execution_count": 41
        }
      ]
    },
    {
      "cell_type": "code",
      "execution_count": null,
      "metadata": {
        "id": "o6BMKKNeKwaS"
      },
      "outputs": [],
      "source": [
        ""
      ]
    },
    {
      "cell_type": "code",
      "execution_count": null,
      "metadata": {
        "id": "3bs9MWK8LGX5"
      },
      "outputs": [],
      "source": [
        "mymodel = pickle.load(open('xg.sav', 'rb'))"
      ]
    },
    {
      "cell_type": "code",
      "execution_count": null,
      "metadata": {
        "colab": {
          "base_uri": "https://localhost:8080/"
        },
        "id": "vBlbBN5kLdRp",
        "outputId": "fb94af57-b3a4-4a15-97c6-152f19ea980c"
      },
      "outputs": [
        {
          "output_type": "execute_result",
          "data": {
            "text/plain": [
              "array([323698.56], dtype=float32)"
            ]
          },
          "metadata": {},
          "execution_count": 84
        }
      ],
      "source": [
        "mymodel.predict([[13,7,7,1,10,41533,0,1]])"
      ]
    }
  ],
  "metadata": {
    "colab": {
      "collapsed_sections": [],
      "name": "Car Resale Price Prediction.ipynb",
      "provenance": [],
      "mount_file_id": "1PFVPDWml7j_GgXQqmPlvk1c8x1oj8PcN",
      "authorship_tag": "ABX9TyMwDsOvQJRuh8eu3c1Ij788",
      "include_colab_link": true
    },
    "kernelspec": {
      "display_name": "Python 3",
      "name": "python3"
    },
    "language_info": {
      "name": "python"
    }
  },
  "nbformat": 4,
  "nbformat_minor": 0
}